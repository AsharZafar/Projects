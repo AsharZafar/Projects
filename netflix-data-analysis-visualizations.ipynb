{
 "cells": [
  {
   "cell_type": "markdown",
   "id": "fdfc5bd7",
   "metadata": {
    "papermill": {
     "duration": 0.025407,
     "end_time": "2024-08-14T20:19:27.771392",
     "exception": false,
     "start_time": "2024-08-14T20:19:27.745985",
     "status": "completed"
    },
    "tags": []
   },
   "source": [
    "# Importing Libraries"
   ]
  },
  {
   "cell_type": "code",
   "execution_count": 1,
   "id": "f058178f",
   "metadata": {
    "execution": {
     "iopub.execute_input": "2024-08-14T20:19:27.825546Z",
     "iopub.status.busy": "2024-08-14T20:19:27.825136Z",
     "iopub.status.idle": "2024-08-14T20:19:30.217905Z",
     "shell.execute_reply": "2024-08-14T20:19:30.216358Z"
    },
    "papermill": {
     "duration": 2.424754,
     "end_time": "2024-08-14T20:19:30.222386",
     "exception": false,
     "start_time": "2024-08-14T20:19:27.797632",
     "status": "completed"
    },
    "tags": []
   },
   "outputs": [],
   "source": [
    "import numpy as np # linear algebra\n",
    "import pandas as pd # data processing, CSV file I/O \n",
    "%matplotlib inline\n",
    "import matplotlib.pyplot as plt\n",
    "import seaborn as sns"
   ]
  },
  {
   "cell_type": "markdown",
   "id": "51786e35",
   "metadata": {
    "papermill": {
     "duration": 0.025653,
     "end_time": "2024-08-14T20:19:30.274192",
     "exception": false,
     "start_time": "2024-08-14T20:19:30.248539",
     "status": "completed"
    },
    "tags": []
   },
   "source": [
    "# Read The Data"
   ]
  },
  {
   "cell_type": "code",
   "execution_count": 2,
   "id": "592ea235",
   "metadata": {
    "execution": {
     "iopub.execute_input": "2024-08-14T20:19:30.327383Z",
     "iopub.status.busy": "2024-08-14T20:19:30.326774Z",
     "iopub.status.idle": "2024-08-14T20:19:30.398341Z",
     "shell.execute_reply": "2024-08-14T20:19:30.397202Z"
    },
    "papermill": {
     "duration": 0.101896,
     "end_time": "2024-08-14T20:19:30.401199",
     "exception": false,
     "start_time": "2024-08-14T20:19:30.299303",
     "status": "completed"
    },
    "tags": []
   },
   "outputs": [],
   "source": [
    "df=pd.read_csv(\"/kaggle/input/netflix-data-cleaning-analysis-and-visualization/netflix1.csv\")"
   ]
  },
  {
   "cell_type": "markdown",
   "id": "e7cd26a1",
   "metadata": {
    "papermill": {
     "duration": 0.024876,
     "end_time": "2024-08-14T20:19:30.451570",
     "exception": false,
     "start_time": "2024-08-14T20:19:30.426694",
     "status": "completed"
    },
    "tags": []
   },
   "source": [
    "# Exploring the Data"
   ]
  },
  {
   "cell_type": "code",
   "execution_count": 3,
   "id": "ff7b0e4d",
   "metadata": {
    "execution": {
     "iopub.execute_input": "2024-08-14T20:19:30.504639Z",
     "iopub.status.busy": "2024-08-14T20:19:30.503184Z",
     "iopub.status.idle": "2024-08-14T20:19:30.531333Z",
     "shell.execute_reply": "2024-08-14T20:19:30.530119Z"
    },
    "papermill": {
     "duration": 0.057334,
     "end_time": "2024-08-14T20:19:30.533955",
     "exception": false,
     "start_time": "2024-08-14T20:19:30.476621",
     "status": "completed"
    },
    "tags": []
   },
   "outputs": [
    {
     "data": {
      "text/html": [
       "<div>\n",
       "<style scoped>\n",
       "    .dataframe tbody tr th:only-of-type {\n",
       "        vertical-align: middle;\n",
       "    }\n",
       "\n",
       "    .dataframe tbody tr th {\n",
       "        vertical-align: top;\n",
       "    }\n",
       "\n",
       "    .dataframe thead th {\n",
       "        text-align: right;\n",
       "    }\n",
       "</style>\n",
       "<table border=\"1\" class=\"dataframe\">\n",
       "  <thead>\n",
       "    <tr style=\"text-align: right;\">\n",
       "      <th></th>\n",
       "      <th>show_id</th>\n",
       "      <th>type</th>\n",
       "      <th>title</th>\n",
       "      <th>director</th>\n",
       "      <th>country</th>\n",
       "      <th>date_added</th>\n",
       "      <th>release_year</th>\n",
       "      <th>rating</th>\n",
       "      <th>duration</th>\n",
       "      <th>listed_in</th>\n",
       "    </tr>\n",
       "  </thead>\n",
       "  <tbody>\n",
       "    <tr>\n",
       "      <th>0</th>\n",
       "      <td>s1</td>\n",
       "      <td>Movie</td>\n",
       "      <td>Dick Johnson Is Dead</td>\n",
       "      <td>Kirsten Johnson</td>\n",
       "      <td>United States</td>\n",
       "      <td>9/25/2021</td>\n",
       "      <td>2020</td>\n",
       "      <td>PG-13</td>\n",
       "      <td>90 min</td>\n",
       "      <td>Documentaries</td>\n",
       "    </tr>\n",
       "    <tr>\n",
       "      <th>1</th>\n",
       "      <td>s3</td>\n",
       "      <td>TV Show</td>\n",
       "      <td>Ganglands</td>\n",
       "      <td>Julien Leclercq</td>\n",
       "      <td>France</td>\n",
       "      <td>9/24/2021</td>\n",
       "      <td>2021</td>\n",
       "      <td>TV-MA</td>\n",
       "      <td>1 Season</td>\n",
       "      <td>Crime TV Shows, International TV Shows, TV Act...</td>\n",
       "    </tr>\n",
       "    <tr>\n",
       "      <th>2</th>\n",
       "      <td>s6</td>\n",
       "      <td>TV Show</td>\n",
       "      <td>Midnight Mass</td>\n",
       "      <td>Mike Flanagan</td>\n",
       "      <td>United States</td>\n",
       "      <td>9/24/2021</td>\n",
       "      <td>2021</td>\n",
       "      <td>TV-MA</td>\n",
       "      <td>1 Season</td>\n",
       "      <td>TV Dramas, TV Horror, TV Mysteries</td>\n",
       "    </tr>\n",
       "    <tr>\n",
       "      <th>3</th>\n",
       "      <td>s14</td>\n",
       "      <td>Movie</td>\n",
       "      <td>Confessions of an Invisible Girl</td>\n",
       "      <td>Bruno Garotti</td>\n",
       "      <td>Brazil</td>\n",
       "      <td>9/22/2021</td>\n",
       "      <td>2021</td>\n",
       "      <td>TV-PG</td>\n",
       "      <td>91 min</td>\n",
       "      <td>Children &amp; Family Movies, Comedies</td>\n",
       "    </tr>\n",
       "    <tr>\n",
       "      <th>4</th>\n",
       "      <td>s8</td>\n",
       "      <td>Movie</td>\n",
       "      <td>Sankofa</td>\n",
       "      <td>Haile Gerima</td>\n",
       "      <td>United States</td>\n",
       "      <td>9/24/2021</td>\n",
       "      <td>1993</td>\n",
       "      <td>TV-MA</td>\n",
       "      <td>125 min</td>\n",
       "      <td>Dramas, Independent Movies, International Movies</td>\n",
       "    </tr>\n",
       "  </tbody>\n",
       "</table>\n",
       "</div>"
      ],
      "text/plain": [
       "  show_id     type                             title         director  \\\n",
       "0      s1    Movie              Dick Johnson Is Dead  Kirsten Johnson   \n",
       "1      s3  TV Show                         Ganglands  Julien Leclercq   \n",
       "2      s6  TV Show                     Midnight Mass    Mike Flanagan   \n",
       "3     s14    Movie  Confessions of an Invisible Girl    Bruno Garotti   \n",
       "4      s8    Movie                           Sankofa     Haile Gerima   \n",
       "\n",
       "         country date_added  release_year rating  duration  \\\n",
       "0  United States  9/25/2021          2020  PG-13    90 min   \n",
       "1         France  9/24/2021          2021  TV-MA  1 Season   \n",
       "2  United States  9/24/2021          2021  TV-MA  1 Season   \n",
       "3         Brazil  9/22/2021          2021  TV-PG    91 min   \n",
       "4  United States  9/24/2021          1993  TV-MA   125 min   \n",
       "\n",
       "                                           listed_in  \n",
       "0                                      Documentaries  \n",
       "1  Crime TV Shows, International TV Shows, TV Act...  \n",
       "2                 TV Dramas, TV Horror, TV Mysteries  \n",
       "3                 Children & Family Movies, Comedies  \n",
       "4   Dramas, Independent Movies, International Movies  "
      ]
     },
     "execution_count": 3,
     "metadata": {},
     "output_type": "execute_result"
    }
   ],
   "source": [
    "df.head()"
   ]
  },
  {
   "cell_type": "code",
   "execution_count": 4,
   "id": "1c07daa4",
   "metadata": {
    "execution": {
     "iopub.execute_input": "2024-08-14T20:19:30.586771Z",
     "iopub.status.busy": "2024-08-14T20:19:30.586361Z",
     "iopub.status.idle": "2024-08-14T20:19:30.592530Z",
     "shell.execute_reply": "2024-08-14T20:19:30.591364Z"
    },
    "papermill": {
     "duration": 0.035473,
     "end_time": "2024-08-14T20:19:30.595011",
     "exception": false,
     "start_time": "2024-08-14T20:19:30.559538",
     "status": "completed"
    },
    "tags": []
   },
   "outputs": [],
   "source": [
    "df.rename(columns={\"listed_in\":\"category\"},inplace=True)"
   ]
  },
  {
   "cell_type": "code",
   "execution_count": 5,
   "id": "c69428a9",
   "metadata": {
    "execution": {
     "iopub.execute_input": "2024-08-14T20:19:30.647414Z",
     "iopub.status.busy": "2024-08-14T20:19:30.646976Z",
     "iopub.status.idle": "2024-08-14T20:19:30.674053Z",
     "shell.execute_reply": "2024-08-14T20:19:30.672832Z"
    },
    "papermill": {
     "duration": 0.056715,
     "end_time": "2024-08-14T20:19:30.676985",
     "exception": false,
     "start_time": "2024-08-14T20:19:30.620270",
     "status": "completed"
    },
    "tags": []
   },
   "outputs": [],
   "source": [
    "#Converting The Data Type From String Into DateTime\n",
    "df[\"date\"] = pd.to_datetime(df[\"date_added\"])"
   ]
  },
  {
   "cell_type": "code",
   "execution_count": 6,
   "id": "16e1963d",
   "metadata": {
    "execution": {
     "iopub.execute_input": "2024-08-14T20:19:30.731176Z",
     "iopub.status.busy": "2024-08-14T20:19:30.730716Z",
     "iopub.status.idle": "2024-08-14T20:19:30.748364Z",
     "shell.execute_reply": "2024-08-14T20:19:30.747278Z"
    },
    "papermill": {
     "duration": 0.047637,
     "end_time": "2024-08-14T20:19:30.751090",
     "exception": false,
     "start_time": "2024-08-14T20:19:30.703453",
     "status": "completed"
    },
    "tags": []
   },
   "outputs": [
    {
     "data": {
      "text/html": [
       "<div>\n",
       "<style scoped>\n",
       "    .dataframe tbody tr th:only-of-type {\n",
       "        vertical-align: middle;\n",
       "    }\n",
       "\n",
       "    .dataframe tbody tr th {\n",
       "        vertical-align: top;\n",
       "    }\n",
       "\n",
       "    .dataframe thead th {\n",
       "        text-align: right;\n",
       "    }\n",
       "</style>\n",
       "<table border=\"1\" class=\"dataframe\">\n",
       "  <thead>\n",
       "    <tr style=\"text-align: right;\">\n",
       "      <th></th>\n",
       "      <th>show_id</th>\n",
       "      <th>type</th>\n",
       "      <th>title</th>\n",
       "      <th>director</th>\n",
       "      <th>country</th>\n",
       "      <th>date_added</th>\n",
       "      <th>release_year</th>\n",
       "      <th>rating</th>\n",
       "      <th>duration</th>\n",
       "      <th>category</th>\n",
       "      <th>date</th>\n",
       "    </tr>\n",
       "  </thead>\n",
       "  <tbody>\n",
       "    <tr>\n",
       "      <th>0</th>\n",
       "      <td>s1</td>\n",
       "      <td>Movie</td>\n",
       "      <td>Dick Johnson Is Dead</td>\n",
       "      <td>Kirsten Johnson</td>\n",
       "      <td>United States</td>\n",
       "      <td>9/25/2021</td>\n",
       "      <td>2020</td>\n",
       "      <td>PG-13</td>\n",
       "      <td>90 min</td>\n",
       "      <td>Documentaries</td>\n",
       "      <td>2021-09-25</td>\n",
       "    </tr>\n",
       "    <tr>\n",
       "      <th>1</th>\n",
       "      <td>s3</td>\n",
       "      <td>TV Show</td>\n",
       "      <td>Ganglands</td>\n",
       "      <td>Julien Leclercq</td>\n",
       "      <td>France</td>\n",
       "      <td>9/24/2021</td>\n",
       "      <td>2021</td>\n",
       "      <td>TV-MA</td>\n",
       "      <td>1 Season</td>\n",
       "      <td>Crime TV Shows, International TV Shows, TV Act...</td>\n",
       "      <td>2021-09-24</td>\n",
       "    </tr>\n",
       "  </tbody>\n",
       "</table>\n",
       "</div>"
      ],
      "text/plain": [
       "  show_id     type                 title         director        country  \\\n",
       "0      s1    Movie  Dick Johnson Is Dead  Kirsten Johnson  United States   \n",
       "1      s3  TV Show             Ganglands  Julien Leclercq         France   \n",
       "\n",
       "  date_added  release_year rating  duration  \\\n",
       "0  9/25/2021          2020  PG-13    90 min   \n",
       "1  9/24/2021          2021  TV-MA  1 Season   \n",
       "\n",
       "                                            category       date  \n",
       "0                                      Documentaries 2021-09-25  \n",
       "1  Crime TV Shows, International TV Shows, TV Act... 2021-09-24  "
      ]
     },
     "execution_count": 6,
     "metadata": {},
     "output_type": "execute_result"
    }
   ],
   "source": [
    "df.head(2)"
   ]
  },
  {
   "cell_type": "code",
   "execution_count": 7,
   "id": "eeac86ce",
   "metadata": {
    "execution": {
     "iopub.execute_input": "2024-08-14T20:19:30.805664Z",
     "iopub.status.busy": "2024-08-14T20:19:30.804977Z",
     "iopub.status.idle": "2024-08-14T20:19:30.812259Z",
     "shell.execute_reply": "2024-08-14T20:19:30.811007Z"
    },
    "papermill": {
     "duration": 0.038019,
     "end_time": "2024-08-14T20:19:30.814792",
     "exception": false,
     "start_time": "2024-08-14T20:19:30.776773",
     "status": "completed"
    },
    "tags": []
   },
   "outputs": [],
   "source": [
    "df[\"year\"] = df[\"date\"].dt.year"
   ]
  },
  {
   "cell_type": "code",
   "execution_count": 8,
   "id": "65e073d5",
   "metadata": {
    "execution": {
     "iopub.execute_input": "2024-08-14T20:19:30.867937Z",
     "iopub.status.busy": "2024-08-14T20:19:30.867490Z",
     "iopub.status.idle": "2024-08-14T20:19:30.883272Z",
     "shell.execute_reply": "2024-08-14T20:19:30.882269Z"
    },
    "papermill": {
     "duration": 0.045276,
     "end_time": "2024-08-14T20:19:30.885739",
     "exception": false,
     "start_time": "2024-08-14T20:19:30.840463",
     "status": "completed"
    },
    "tags": []
   },
   "outputs": [
    {
     "data": {
      "text/html": [
       "<div>\n",
       "<style scoped>\n",
       "    .dataframe tbody tr th:only-of-type {\n",
       "        vertical-align: middle;\n",
       "    }\n",
       "\n",
       "    .dataframe tbody tr th {\n",
       "        vertical-align: top;\n",
       "    }\n",
       "\n",
       "    .dataframe thead th {\n",
       "        text-align: right;\n",
       "    }\n",
       "</style>\n",
       "<table border=\"1\" class=\"dataframe\">\n",
       "  <thead>\n",
       "    <tr style=\"text-align: right;\">\n",
       "      <th></th>\n",
       "      <th>show_id</th>\n",
       "      <th>type</th>\n",
       "      <th>title</th>\n",
       "      <th>director</th>\n",
       "      <th>country</th>\n",
       "      <th>date_added</th>\n",
       "      <th>release_year</th>\n",
       "      <th>rating</th>\n",
       "      <th>duration</th>\n",
       "      <th>category</th>\n",
       "      <th>date</th>\n",
       "      <th>year</th>\n",
       "    </tr>\n",
       "  </thead>\n",
       "  <tbody>\n",
       "    <tr>\n",
       "      <th>0</th>\n",
       "      <td>s1</td>\n",
       "      <td>Movie</td>\n",
       "      <td>Dick Johnson Is Dead</td>\n",
       "      <td>Kirsten Johnson</td>\n",
       "      <td>United States</td>\n",
       "      <td>9/25/2021</td>\n",
       "      <td>2020</td>\n",
       "      <td>PG-13</td>\n",
       "      <td>90 min</td>\n",
       "      <td>Documentaries</td>\n",
       "      <td>2021-09-25</td>\n",
       "      <td>2021</td>\n",
       "    </tr>\n",
       "  </tbody>\n",
       "</table>\n",
       "</div>"
      ],
      "text/plain": [
       "  show_id   type                 title         director        country  \\\n",
       "0      s1  Movie  Dick Johnson Is Dead  Kirsten Johnson  United States   \n",
       "\n",
       "  date_added  release_year rating duration       category       date  year  \n",
       "0  9/25/2021          2020  PG-13   90 min  Documentaries 2021-09-25  2021  "
      ]
     },
     "execution_count": 8,
     "metadata": {},
     "output_type": "execute_result"
    }
   ],
   "source": [
    "df.head(1)"
   ]
  },
  {
   "cell_type": "code",
   "execution_count": 9,
   "id": "2d04117c",
   "metadata": {
    "execution": {
     "iopub.execute_input": "2024-08-14T20:19:30.940132Z",
     "iopub.status.busy": "2024-08-14T20:19:30.939653Z",
     "iopub.status.idle": "2024-08-14T20:19:31.022453Z",
     "shell.execute_reply": "2024-08-14T20:19:31.020888Z"
    },
    "papermill": {
     "duration": 0.113465,
     "end_time": "2024-08-14T20:19:31.025130",
     "exception": false,
     "start_time": "2024-08-14T20:19:30.911665",
     "status": "completed"
    },
    "tags": []
   },
   "outputs": [
    {
     "data": {
      "text/html": [
       "<div>\n",
       "<style scoped>\n",
       "    .dataframe tbody tr th:only-of-type {\n",
       "        vertical-align: middle;\n",
       "    }\n",
       "\n",
       "    .dataframe tbody tr th {\n",
       "        vertical-align: top;\n",
       "    }\n",
       "\n",
       "    .dataframe thead th {\n",
       "        text-align: right;\n",
       "    }\n",
       "</style>\n",
       "<table border=\"1\" class=\"dataframe\">\n",
       "  <thead>\n",
       "    <tr style=\"text-align: right;\">\n",
       "      <th></th>\n",
       "      <th>show_id</th>\n",
       "      <th>type</th>\n",
       "      <th>title</th>\n",
       "      <th>director</th>\n",
       "      <th>country</th>\n",
       "      <th>date_added</th>\n",
       "      <th>release_year</th>\n",
       "      <th>rating</th>\n",
       "      <th>duration</th>\n",
       "      <th>category</th>\n",
       "      <th>date</th>\n",
       "      <th>year</th>\n",
       "    </tr>\n",
       "  </thead>\n",
       "  <tbody>\n",
       "    <tr>\n",
       "      <th>count</th>\n",
       "      <td>8790</td>\n",
       "      <td>8790</td>\n",
       "      <td>8790</td>\n",
       "      <td>8790</td>\n",
       "      <td>8790</td>\n",
       "      <td>8790</td>\n",
       "      <td>8790.000000</td>\n",
       "      <td>8790</td>\n",
       "      <td>8790</td>\n",
       "      <td>8790</td>\n",
       "      <td>8790</td>\n",
       "      <td>8790.000000</td>\n",
       "    </tr>\n",
       "    <tr>\n",
       "      <th>unique</th>\n",
       "      <td>8790</td>\n",
       "      <td>2</td>\n",
       "      <td>8787</td>\n",
       "      <td>4528</td>\n",
       "      <td>86</td>\n",
       "      <td>1713</td>\n",
       "      <td>NaN</td>\n",
       "      <td>14</td>\n",
       "      <td>220</td>\n",
       "      <td>513</td>\n",
       "      <td>NaN</td>\n",
       "      <td>NaN</td>\n",
       "    </tr>\n",
       "    <tr>\n",
       "      <th>top</th>\n",
       "      <td>s1</td>\n",
       "      <td>Movie</td>\n",
       "      <td>9-Feb</td>\n",
       "      <td>Not Given</td>\n",
       "      <td>United States</td>\n",
       "      <td>1/1/2020</td>\n",
       "      <td>NaN</td>\n",
       "      <td>TV-MA</td>\n",
       "      <td>1 Season</td>\n",
       "      <td>Dramas, International Movies</td>\n",
       "      <td>NaN</td>\n",
       "      <td>NaN</td>\n",
       "    </tr>\n",
       "    <tr>\n",
       "      <th>freq</th>\n",
       "      <td>1</td>\n",
       "      <td>6126</td>\n",
       "      <td>2</td>\n",
       "      <td>2588</td>\n",
       "      <td>3240</td>\n",
       "      <td>110</td>\n",
       "      <td>NaN</td>\n",
       "      <td>3205</td>\n",
       "      <td>1791</td>\n",
       "      <td>362</td>\n",
       "      <td>NaN</td>\n",
       "      <td>NaN</td>\n",
       "    </tr>\n",
       "    <tr>\n",
       "      <th>mean</th>\n",
       "      <td>NaN</td>\n",
       "      <td>NaN</td>\n",
       "      <td>NaN</td>\n",
       "      <td>NaN</td>\n",
       "      <td>NaN</td>\n",
       "      <td>NaN</td>\n",
       "      <td>2014.183163</td>\n",
       "      <td>NaN</td>\n",
       "      <td>NaN</td>\n",
       "      <td>NaN</td>\n",
       "      <td>2019-05-17 21:44:01.638225408</td>\n",
       "      <td>2018.873606</td>\n",
       "    </tr>\n",
       "    <tr>\n",
       "      <th>min</th>\n",
       "      <td>NaN</td>\n",
       "      <td>NaN</td>\n",
       "      <td>NaN</td>\n",
       "      <td>NaN</td>\n",
       "      <td>NaN</td>\n",
       "      <td>NaN</td>\n",
       "      <td>1925.000000</td>\n",
       "      <td>NaN</td>\n",
       "      <td>NaN</td>\n",
       "      <td>NaN</td>\n",
       "      <td>2008-01-01 00:00:00</td>\n",
       "      <td>2008.000000</td>\n",
       "    </tr>\n",
       "    <tr>\n",
       "      <th>25%</th>\n",
       "      <td>NaN</td>\n",
       "      <td>NaN</td>\n",
       "      <td>NaN</td>\n",
       "      <td>NaN</td>\n",
       "      <td>NaN</td>\n",
       "      <td>NaN</td>\n",
       "      <td>2013.000000</td>\n",
       "      <td>NaN</td>\n",
       "      <td>NaN</td>\n",
       "      <td>NaN</td>\n",
       "      <td>2018-04-06 00:00:00</td>\n",
       "      <td>2018.000000</td>\n",
       "    </tr>\n",
       "    <tr>\n",
       "      <th>50%</th>\n",
       "      <td>NaN</td>\n",
       "      <td>NaN</td>\n",
       "      <td>NaN</td>\n",
       "      <td>NaN</td>\n",
       "      <td>NaN</td>\n",
       "      <td>NaN</td>\n",
       "      <td>2017.000000</td>\n",
       "      <td>NaN</td>\n",
       "      <td>NaN</td>\n",
       "      <td>NaN</td>\n",
       "      <td>2019-07-03 00:00:00</td>\n",
       "      <td>2019.000000</td>\n",
       "    </tr>\n",
       "    <tr>\n",
       "      <th>75%</th>\n",
       "      <td>NaN</td>\n",
       "      <td>NaN</td>\n",
       "      <td>NaN</td>\n",
       "      <td>NaN</td>\n",
       "      <td>NaN</td>\n",
       "      <td>NaN</td>\n",
       "      <td>2019.000000</td>\n",
       "      <td>NaN</td>\n",
       "      <td>NaN</td>\n",
       "      <td>NaN</td>\n",
       "      <td>2020-08-19 18:00:00</td>\n",
       "      <td>2020.000000</td>\n",
       "    </tr>\n",
       "    <tr>\n",
       "      <th>max</th>\n",
       "      <td>NaN</td>\n",
       "      <td>NaN</td>\n",
       "      <td>NaN</td>\n",
       "      <td>NaN</td>\n",
       "      <td>NaN</td>\n",
       "      <td>NaN</td>\n",
       "      <td>2021.000000</td>\n",
       "      <td>NaN</td>\n",
       "      <td>NaN</td>\n",
       "      <td>NaN</td>\n",
       "      <td>2021-09-25 00:00:00</td>\n",
       "      <td>2021.000000</td>\n",
       "    </tr>\n",
       "    <tr>\n",
       "      <th>std</th>\n",
       "      <td>NaN</td>\n",
       "      <td>NaN</td>\n",
       "      <td>NaN</td>\n",
       "      <td>NaN</td>\n",
       "      <td>NaN</td>\n",
       "      <td>NaN</td>\n",
       "      <td>8.825466</td>\n",
       "      <td>NaN</td>\n",
       "      <td>NaN</td>\n",
       "      <td>NaN</td>\n",
       "      <td>NaN</td>\n",
       "      <td>1.573568</td>\n",
       "    </tr>\n",
       "  </tbody>\n",
       "</table>\n",
       "</div>"
      ],
      "text/plain": [
       "       show_id   type  title   director        country date_added  \\\n",
       "count     8790   8790   8790       8790           8790       8790   \n",
       "unique    8790      2   8787       4528             86       1713   \n",
       "top         s1  Movie  9-Feb  Not Given  United States   1/1/2020   \n",
       "freq         1   6126      2       2588           3240        110   \n",
       "mean       NaN    NaN    NaN        NaN            NaN        NaN   \n",
       "min        NaN    NaN    NaN        NaN            NaN        NaN   \n",
       "25%        NaN    NaN    NaN        NaN            NaN        NaN   \n",
       "50%        NaN    NaN    NaN        NaN            NaN        NaN   \n",
       "75%        NaN    NaN    NaN        NaN            NaN        NaN   \n",
       "max        NaN    NaN    NaN        NaN            NaN        NaN   \n",
       "std        NaN    NaN    NaN        NaN            NaN        NaN   \n",
       "\n",
       "        release_year rating  duration                      category  \\\n",
       "count    8790.000000   8790      8790                          8790   \n",
       "unique           NaN     14       220                           513   \n",
       "top              NaN  TV-MA  1 Season  Dramas, International Movies   \n",
       "freq             NaN   3205      1791                           362   \n",
       "mean     2014.183163    NaN       NaN                           NaN   \n",
       "min      1925.000000    NaN       NaN                           NaN   \n",
       "25%      2013.000000    NaN       NaN                           NaN   \n",
       "50%      2017.000000    NaN       NaN                           NaN   \n",
       "75%      2019.000000    NaN       NaN                           NaN   \n",
       "max      2021.000000    NaN       NaN                           NaN   \n",
       "std         8.825466    NaN       NaN                           NaN   \n",
       "\n",
       "                                 date         year  \n",
       "count                            8790  8790.000000  \n",
       "unique                            NaN          NaN  \n",
       "top                               NaN          NaN  \n",
       "freq                              NaN          NaN  \n",
       "mean    2019-05-17 21:44:01.638225408  2018.873606  \n",
       "min               2008-01-01 00:00:00  2008.000000  \n",
       "25%               2018-04-06 00:00:00  2018.000000  \n",
       "50%               2019-07-03 00:00:00  2019.000000  \n",
       "75%               2020-08-19 18:00:00  2020.000000  \n",
       "max               2021-09-25 00:00:00  2021.000000  \n",
       "std                               NaN     1.573568  "
      ]
     },
     "execution_count": 9,
     "metadata": {},
     "output_type": "execute_result"
    }
   ],
   "source": [
    "df.describe(include=\"all\")"
   ]
  },
  {
   "cell_type": "code",
   "execution_count": 10,
   "id": "44791205",
   "metadata": {
    "execution": {
     "iopub.execute_input": "2024-08-14T20:19:31.079852Z",
     "iopub.status.busy": "2024-08-14T20:19:31.079430Z",
     "iopub.status.idle": "2024-08-14T20:19:31.104731Z",
     "shell.execute_reply": "2024-08-14T20:19:31.103240Z"
    },
    "papermill": {
     "duration": 0.055966,
     "end_time": "2024-08-14T20:19:31.107556",
     "exception": false,
     "start_time": "2024-08-14T20:19:31.051590",
     "status": "completed"
    },
    "tags": []
   },
   "outputs": [
    {
     "name": "stdout",
     "output_type": "stream",
     "text": [
      "<class 'pandas.core.frame.DataFrame'>\n",
      "RangeIndex: 8790 entries, 0 to 8789\n",
      "Data columns (total 12 columns):\n",
      " #   Column        Non-Null Count  Dtype         \n",
      "---  ------        --------------  -----         \n",
      " 0   show_id       8790 non-null   object        \n",
      " 1   type          8790 non-null   object        \n",
      " 2   title         8790 non-null   object        \n",
      " 3   director      8790 non-null   object        \n",
      " 4   country       8790 non-null   object        \n",
      " 5   date_added    8790 non-null   object        \n",
      " 6   release_year  8790 non-null   int64         \n",
      " 7   rating        8790 non-null   object        \n",
      " 8   duration      8790 non-null   object        \n",
      " 9   category      8790 non-null   object        \n",
      " 10  date          8790 non-null   datetime64[ns]\n",
      " 11  year          8790 non-null   int32         \n",
      "dtypes: datetime64[ns](1), int32(1), int64(1), object(9)\n",
      "memory usage: 789.9+ KB\n"
     ]
    }
   ],
   "source": [
    "#  there are not null in any colum\n",
    "df.info()"
   ]
  },
  {
   "cell_type": "code",
   "execution_count": 11,
   "id": "389bd035",
   "metadata": {
    "execution": {
     "iopub.execute_input": "2024-08-14T20:19:31.235366Z",
     "iopub.status.busy": "2024-08-14T20:19:31.234945Z",
     "iopub.status.idle": "2024-08-14T20:19:31.243014Z",
     "shell.execute_reply": "2024-08-14T20:19:31.242026Z"
    },
    "papermill": {
     "duration": 0.047665,
     "end_time": "2024-08-14T20:19:31.245629",
     "exception": false,
     "start_time": "2024-08-14T20:19:31.197964",
     "status": "completed"
    },
    "tags": []
   },
   "outputs": [
    {
     "data": {
      "text/plain": [
       "['show_id',\n",
       " 'type',\n",
       " 'title',\n",
       " 'director',\n",
       " 'country',\n",
       " 'date_added',\n",
       " 'release_year',\n",
       " 'rating',\n",
       " 'duration',\n",
       " 'category',\n",
       " 'date',\n",
       " 'year']"
      ]
     },
     "execution_count": 11,
     "metadata": {},
     "output_type": "execute_result"
    }
   ],
   "source": [
    "# names of columes\n",
    "df.columns.tolist()"
   ]
  },
  {
   "cell_type": "markdown",
   "id": "5d708627",
   "metadata": {
    "papermill": {
     "duration": 0.026804,
     "end_time": "2024-08-14T20:19:31.302285",
     "exception": false,
     "start_time": "2024-08-14T20:19:31.275481",
     "status": "completed"
    },
    "tags": []
   },
   "source": [
    "#  Univariate Analysis"
   ]
  },
  {
   "cell_type": "markdown",
   "id": "541e4d42",
   "metadata": {
    "papermill": {
     "duration": 0.031513,
     "end_time": "2024-08-14T20:19:31.360496",
     "exception": false,
     "start_time": "2024-08-14T20:19:31.328983",
     "status": "completed"
    },
    "tags": []
   },
   "source": [
    "* show_id"
   ]
  },
  {
   "cell_type": "code",
   "execution_count": 12,
   "id": "93d31263",
   "metadata": {
    "execution": {
     "iopub.execute_input": "2024-08-14T20:19:31.434441Z",
     "iopub.status.busy": "2024-08-14T20:19:31.433978Z",
     "iopub.status.idle": "2024-08-14T20:19:31.445683Z",
     "shell.execute_reply": "2024-08-14T20:19:31.444210Z"
    },
    "papermill": {
     "duration": 0.05322,
     "end_time": "2024-08-14T20:19:31.450382",
     "exception": false,
     "start_time": "2024-08-14T20:19:31.397162",
     "status": "completed"
    },
    "tags": []
   },
   "outputs": [
    {
     "data": {
      "text/plain": [
       "8790"
      ]
     },
     "execution_count": 12,
     "metadata": {},
     "output_type": "execute_result"
    }
   ],
   "source": [
    "#there are not duplicates\n",
    "# Number of rows 8790\n",
    "len(df[\"show_id\"].unique())"
   ]
  },
  {
   "cell_type": "markdown",
   "id": "7c10b597",
   "metadata": {
    "papermill": {
     "duration": 0.031701,
     "end_time": "2024-08-14T20:19:31.519263",
     "exception": false,
     "start_time": "2024-08-14T20:19:31.487562",
     "status": "completed"
    },
    "tags": []
   },
   "source": [
    "*  Type"
   ]
  },
  {
   "cell_type": "code",
   "execution_count": 13,
   "id": "e5d52e1a",
   "metadata": {
    "execution": {
     "iopub.execute_input": "2024-08-14T20:19:31.585134Z",
     "iopub.status.busy": "2024-08-14T20:19:31.584667Z",
     "iopub.status.idle": "2024-08-14T20:19:31.591601Z",
     "shell.execute_reply": "2024-08-14T20:19:31.590424Z"
    },
    "papermill": {
     "duration": 0.047006,
     "end_time": "2024-08-14T20:19:31.594292",
     "exception": false,
     "start_time": "2024-08-14T20:19:31.547286",
     "status": "completed"
    },
    "tags": []
   },
   "outputs": [],
   "source": [
    "Content=df[\"type\"].unique().tolist()"
   ]
  },
  {
   "cell_type": "code",
   "execution_count": 14,
   "id": "5cf4bb96",
   "metadata": {
    "execution": {
     "iopub.execute_input": "2024-08-14T20:19:31.656007Z",
     "iopub.status.busy": "2024-08-14T20:19:31.655595Z",
     "iopub.status.idle": "2024-08-14T20:19:31.666723Z",
     "shell.execute_reply": "2024-08-14T20:19:31.665268Z"
    },
    "papermill": {
     "duration": 0.0446,
     "end_time": "2024-08-14T20:19:31.669366",
     "exception": false,
     "start_time": "2024-08-14T20:19:31.624766",
     "status": "completed"
    },
    "tags": []
   },
   "outputs": [
    {
     "data": {
      "text/plain": [
       "type\n",
       "Movie      6126\n",
       "TV Show    2664\n",
       "Name: count, dtype: int64"
      ]
     },
     "execution_count": 14,
     "metadata": {},
     "output_type": "execute_result"
    }
   ],
   "source": [
    "type_counts=df[\"type\"].value_counts()\n",
    "type_counts"
   ]
  },
  {
   "cell_type": "code",
   "execution_count": 15,
   "id": "2dd93697",
   "metadata": {
    "execution": {
     "iopub.execute_input": "2024-08-14T20:19:31.727900Z",
     "iopub.status.busy": "2024-08-14T20:19:31.727418Z",
     "iopub.status.idle": "2024-08-14T20:19:31.922145Z",
     "shell.execute_reply": "2024-08-14T20:19:31.920291Z"
    },
    "papermill": {
     "duration": 0.228791,
     "end_time": "2024-08-14T20:19:31.926565",
     "exception": false,
     "start_time": "2024-08-14T20:19:31.697774",
     "status": "completed"
    },
    "tags": []
   },
   "outputs": [
    {
     "data": {
      "image/png": "[encoded data removed]",
      "text/plain": [
       "<Figure size 2000x600 with 1 Axes>"
      ]
     },
     "metadata": {},
     "output_type": "display_data"
    }
   ],
   "source": [
    "# movie is more watching\n",
    "plt.figure(figsize=(20,6))\n",
    "plt.pie(type_counts,labels=Content,autopct='%1.3f%%',explode=[0,0.1], colors=['#66b4ff','#91ff99'])\n",
    "plt.title('Distribution of Type')\n",
    "plt.show()"
   ]
  },
  {
   "cell_type": "markdown",
   "id": "220f1089",
   "metadata": {
    "papermill": {
     "duration": 0.027275,
     "end_time": "2024-08-14T20:19:31.997712",
     "exception": false,
     "start_time": "2024-08-14T20:19:31.970437",
     "status": "completed"
    },
    "tags": []
   },
   "source": [
    "*  **Title**"
   ]
  },
  {
   "cell_type": "code",
   "execution_count": 16,
   "id": "5d85739b",
   "metadata": {
    "execution": {
     "iopub.execute_input": "2024-08-14T20:19:32.055980Z",
     "iopub.status.busy": "2024-08-14T20:19:32.055570Z",
     "iopub.status.idle": "2024-08-14T20:19:32.064161Z",
     "shell.execute_reply": "2024-08-14T20:19:32.062986Z"
    },
    "papermill": {
     "duration": 0.040403,
     "end_time": "2024-08-14T20:19:32.066623",
     "exception": false,
     "start_time": "2024-08-14T20:19:32.026220",
     "status": "completed"
    },
    "tags": []
   },
   "outputs": [
    {
     "data": {
      "text/plain": [
       "8787"
      ]
     },
     "execution_count": 16,
     "metadata": {},
     "output_type": "execute_result"
    }
   ],
   "source": [
    "# there are dublicat of title\n",
    "len(df[\"title\"].unique())"
   ]
  },
  {
   "cell_type": "code",
   "execution_count": 17,
   "id": "a7320ced",
   "metadata": {
    "execution": {
     "iopub.execute_input": "2024-08-14T20:19:32.125576Z",
     "iopub.status.busy": "2024-08-14T20:19:32.125169Z",
     "iopub.status.idle": "2024-08-14T20:19:32.146366Z",
     "shell.execute_reply": "2024-08-14T20:19:32.145116Z"
    },
    "papermill": {
     "duration": 0.054018,
     "end_time": "2024-08-14T20:19:32.148969",
     "exception": false,
     "start_time": "2024-08-14T20:19:32.094951",
     "status": "completed"
    },
    "tags": []
   },
   "outputs": [
    {
     "data": {
      "text/html": [
       "<div>\n",
       "<style scoped>\n",
       "    .dataframe tbody tr th:only-of-type {\n",
       "        vertical-align: middle;\n",
       "    }\n",
       "\n",
       "    .dataframe tbody tr th {\n",
       "        vertical-align: top;\n",
       "    }\n",
       "\n",
       "    .dataframe thead th {\n",
       "        text-align: right;\n",
       "    }\n",
       "</style>\n",
       "<table border=\"1\" class=\"dataframe\">\n",
       "  <thead>\n",
       "    <tr style=\"text-align: right;\">\n",
       "      <th></th>\n",
       "      <th>show_id</th>\n",
       "      <th>type</th>\n",
       "      <th>title</th>\n",
       "      <th>director</th>\n",
       "      <th>country</th>\n",
       "      <th>date_added</th>\n",
       "      <th>release_year</th>\n",
       "      <th>rating</th>\n",
       "      <th>duration</th>\n",
       "      <th>category</th>\n",
       "      <th>date</th>\n",
       "      <th>year</th>\n",
       "    </tr>\n",
       "  </thead>\n",
       "  <tbody>\n",
       "    <tr>\n",
       "      <th>393</th>\n",
       "      <td>s3997</td>\n",
       "      <td>TV Show</td>\n",
       "      <td>9-Feb</td>\n",
       "      <td>Not Given</td>\n",
       "      <td>Pakistan</td>\n",
       "      <td>3/20/2019</td>\n",
       "      <td>2018</td>\n",
       "      <td>TV-14</td>\n",
       "      <td>1 Season</td>\n",
       "      <td>International TV Shows, TV Dramas</td>\n",
       "      <td>2019-03-20</td>\n",
       "      <td>2019</td>\n",
       "    </tr>\n",
       "    <tr>\n",
       "      <th>537</th>\n",
       "      <td>s5965</td>\n",
       "      <td>TV Show</td>\n",
       "      <td>9-Feb</td>\n",
       "      <td>Not Given</td>\n",
       "      <td>Pakistan</td>\n",
       "      <td>3/20/2019</td>\n",
       "      <td>2018</td>\n",
       "      <td>TV-14</td>\n",
       "      <td>1 Season</td>\n",
       "      <td>International TV Shows, TV Dramas</td>\n",
       "      <td>2019-03-20</td>\n",
       "      <td>2019</td>\n",
       "    </tr>\n",
       "    <tr>\n",
       "      <th>2925</th>\n",
       "      <td>s3963</td>\n",
       "      <td>Movie</td>\n",
       "      <td>15-Aug</td>\n",
       "      <td>Swapnaneel Jayakar</td>\n",
       "      <td>India</td>\n",
       "      <td>3/29/2019</td>\n",
       "      <td>2019</td>\n",
       "      <td>TV-14</td>\n",
       "      <td>124 min</td>\n",
       "      <td>Comedies, Dramas, Independent Movies</td>\n",
       "      <td>2019-03-29</td>\n",
       "      <td>2019</td>\n",
       "    </tr>\n",
       "    <tr>\n",
       "      <th>3285</th>\n",
       "      <td>s4523</td>\n",
       "      <td>Movie</td>\n",
       "      <td>22-Jul</td>\n",
       "      <td>Paul Greengrass</td>\n",
       "      <td>Norway</td>\n",
       "      <td>10/10/2018</td>\n",
       "      <td>2018</td>\n",
       "      <td>R</td>\n",
       "      <td>144 min</td>\n",
       "      <td>Dramas, Thrillers</td>\n",
       "      <td>2018-10-10</td>\n",
       "      <td>2018</td>\n",
       "    </tr>\n",
       "    <tr>\n",
       "      <th>4260</th>\n",
       "      <td>s5966</td>\n",
       "      <td>Movie</td>\n",
       "      <td>22-Jul</td>\n",
       "      <td>Paul Greengrass</td>\n",
       "      <td>Norway</td>\n",
       "      <td>10/10/2018</td>\n",
       "      <td>2018</td>\n",
       "      <td>R</td>\n",
       "      <td>144 min</td>\n",
       "      <td>Dramas, Thrillers</td>\n",
       "      <td>2018-10-10</td>\n",
       "      <td>2018</td>\n",
       "    </tr>\n",
       "    <tr>\n",
       "      <th>4261</th>\n",
       "      <td>s5967</td>\n",
       "      <td>Movie</td>\n",
       "      <td>15-Aug</td>\n",
       "      <td>Swapnaneel Jayakar</td>\n",
       "      <td>India</td>\n",
       "      <td>3/29/2019</td>\n",
       "      <td>2019</td>\n",
       "      <td>TV-14</td>\n",
       "      <td>124 min</td>\n",
       "      <td>Comedies, Dramas, Independent Movies</td>\n",
       "      <td>2019-03-29</td>\n",
       "      <td>2019</td>\n",
       "    </tr>\n",
       "  </tbody>\n",
       "</table>\n",
       "</div>"
      ],
      "text/plain": [
       "     show_id     type   title            director   country  date_added  \\\n",
       "393    s3997  TV Show   9-Feb           Not Given  Pakistan   3/20/2019   \n",
       "537    s5965  TV Show   9-Feb           Not Given  Pakistan   3/20/2019   \n",
       "2925   s3963    Movie  15-Aug  Swapnaneel Jayakar     India   3/29/2019   \n",
       "3285   s4523    Movie  22-Jul     Paul Greengrass    Norway  10/10/2018   \n",
       "4260   s5966    Movie  22-Jul     Paul Greengrass    Norway  10/10/2018   \n",
       "4261   s5967    Movie  15-Aug  Swapnaneel Jayakar     India   3/29/2019   \n",
       "\n",
       "      release_year rating  duration                              category  \\\n",
       "393           2018  TV-14  1 Season     International TV Shows, TV Dramas   \n",
       "537           2018  TV-14  1 Season     International TV Shows, TV Dramas   \n",
       "2925          2019  TV-14   124 min  Comedies, Dramas, Independent Movies   \n",
       "3285          2018      R   144 min                     Dramas, Thrillers   \n",
       "4260          2018      R   144 min                     Dramas, Thrillers   \n",
       "4261          2019  TV-14   124 min  Comedies, Dramas, Independent Movies   \n",
       "\n",
       "           date  year  \n",
       "393  2019-03-20  2019  \n",
       "537  2019-03-20  2019  \n",
       "2925 2019-03-29  2019  \n",
       "3285 2018-10-10  2018  \n",
       "4260 2018-10-10  2018  \n",
       "4261 2019-03-29  2019  "
      ]
     },
     "execution_count": 17,
     "metadata": {},
     "output_type": "execute_result"
    }
   ],
   "source": [
    "#This shows all rows that repeated\n",
    "df[df['title'].duplicated(keep=False)]\n"
   ]
  },
  {
   "cell_type": "code",
   "execution_count": 18,
   "id": "15286f12",
   "metadata": {
    "execution": {
     "iopub.execute_input": "2024-08-14T20:19:32.208689Z",
     "iopub.status.busy": "2024-08-14T20:19:32.208285Z",
     "iopub.status.idle": "2024-08-14T20:19:32.229024Z",
     "shell.execute_reply": "2024-08-14T20:19:32.227197Z"
    },
    "papermill": {
     "duration": 0.054044,
     "end_time": "2024-08-14T20:19:32.231940",
     "exception": false,
     "start_time": "2024-08-14T20:19:32.177896",
     "status": "completed"
    },
    "tags": []
   },
   "outputs": [],
   "source": [
    "# drop that rows repeated\n",
    "df.drop_duplicates(subset=df.columns.difference(['show_id']),inplace=True)"
   ]
  },
  {
   "cell_type": "code",
   "execution_count": 19,
   "id": "6182cf60",
   "metadata": {
    "execution": {
     "iopub.execute_input": "2024-08-14T20:19:32.291105Z",
     "iopub.status.busy": "2024-08-14T20:19:32.290653Z",
     "iopub.status.idle": "2024-08-14T20:19:32.297844Z",
     "shell.execute_reply": "2024-08-14T20:19:32.296741Z"
    },
    "papermill": {
     "duration": 0.03958,
     "end_time": "2024-08-14T20:19:32.300327",
     "exception": false,
     "start_time": "2024-08-14T20:19:32.260747",
     "status": "completed"
    },
    "tags": []
   },
   "outputs": [
    {
     "data": {
      "text/plain": [
       "8787"
      ]
     },
     "execution_count": 19,
     "metadata": {},
     "output_type": "execute_result"
    }
   ],
   "source": [
    "# Numper of rows\n",
    "df.shape[0]"
   ]
  },
  {
   "cell_type": "markdown",
   "id": "33b6c503",
   "metadata": {
    "papermill": {
     "duration": 0.028284,
     "end_time": "2024-08-14T20:19:32.357033",
     "exception": false,
     "start_time": "2024-08-14T20:19:32.328749",
     "status": "completed"
    },
    "tags": []
   },
   "source": [
    "*  Director"
   ]
  },
  {
   "cell_type": "code",
   "execution_count": 20,
   "id": "21cc5971",
   "metadata": {
    "execution": {
     "iopub.execute_input": "2024-08-14T20:19:32.415974Z",
     "iopub.status.busy": "2024-08-14T20:19:32.415587Z",
     "iopub.status.idle": "2024-08-14T20:19:32.424251Z",
     "shell.execute_reply": "2024-08-14T20:19:32.423119Z"
    },
    "papermill": {
     "duration": 0.040981,
     "end_time": "2024-08-14T20:19:32.426744",
     "exception": false,
     "start_time": "2024-08-14T20:19:32.385763",
     "status": "completed"
    },
    "tags": []
   },
   "outputs": [
    {
     "data": {
      "text/plain": [
       "4528"
      ]
     },
     "execution_count": 20,
     "metadata": {},
     "output_type": "execute_result"
    }
   ],
   "source": [
    "# there is repetition \n",
    "len(df[\"director\"].unique())"
   ]
  },
  {
   "cell_type": "code",
   "execution_count": 21,
   "id": "2efa5afd",
   "metadata": {
    "execution": {
     "iopub.execute_input": "2024-08-14T20:19:32.487455Z",
     "iopub.status.busy": "2024-08-14T20:19:32.486787Z",
     "iopub.status.idle": "2024-08-14T20:19:32.500574Z",
     "shell.execute_reply": "2024-08-14T20:19:32.499298Z"
    },
    "papermill": {
     "duration": 0.046822,
     "end_time": "2024-08-14T20:19:32.503349",
     "exception": false,
     "start_time": "2024-08-14T20:19:32.456527",
     "status": "completed"
    },
    "tags": []
   },
   "outputs": [
    {
     "data": {
      "text/plain": [
       "director\n",
       "Not Given                         2587\n",
       "Rajiv Chilaka                       20\n",
       "Raúl Campos, Jan Suter              18\n",
       "Alastair Fothergill                 18\n",
       "Marcus Raboy                        16\n",
       "                                  ... \n",
       "Parthiban                            1\n",
       "Scott McAboy                         1\n",
       "Raymie Muzquiz, Stu Livingston       1\n",
       "Joe Menendez                         1\n",
       "Mozez Singh                          1\n",
       "Name: count, Length: 4528, dtype: int64"
      ]
     },
     "execution_count": 21,
     "metadata": {},
     "output_type": "execute_result"
    }
   ],
   "source": [
    "df['director'].value_counts()"
   ]
  },
  {
   "cell_type": "code",
   "execution_count": 22,
   "id": "7283df35",
   "metadata": {
    "execution": {
     "iopub.execute_input": "2024-08-14T20:19:32.562660Z",
     "iopub.status.busy": "2024-08-14T20:19:32.562290Z",
     "iopub.status.idle": "2024-08-14T20:19:32.573634Z",
     "shell.execute_reply": "2024-08-14T20:19:32.572382Z"
    },
    "papermill": {
     "duration": 0.043985,
     "end_time": "2024-08-14T20:19:32.576134",
     "exception": false,
     "start_time": "2024-08-14T20:19:32.532149",
     "status": "completed"
    },
    "tags": []
   },
   "outputs": [
    {
     "data": {
      "text/plain": [
       "'Not Given'"
      ]
     },
     "execution_count": 22,
     "metadata": {},
     "output_type": "execute_result"
    }
   ],
   "source": [
    "#the most director reapated\n",
    "df['director'].value_counts().idxmax()"
   ]
  },
  {
   "cell_type": "code",
   "execution_count": 23,
   "id": "522f6475",
   "metadata": {
    "execution": {
     "iopub.execute_input": "2024-08-14T20:19:32.636024Z",
     "iopub.status.busy": "2024-08-14T20:19:32.635596Z",
     "iopub.status.idle": "2024-08-14T20:19:32.647113Z",
     "shell.execute_reply": "2024-08-14T20:19:32.645985Z"
    },
    "papermill": {
     "duration": 0.044436,
     "end_time": "2024-08-14T20:19:32.649607",
     "exception": false,
     "start_time": "2024-08-14T20:19:32.605171",
     "status": "completed"
    },
    "tags": []
   },
   "outputs": [
    {
     "data": {
      "text/plain": [
       "2587"
      ]
     },
     "execution_count": 23,
     "metadata": {},
     "output_type": "execute_result"
    }
   ],
   "source": [
    "# number \n",
    "df['director'].value_counts().max()"
   ]
  },
  {
   "cell_type": "markdown",
   "id": "d62cdcdd",
   "metadata": {
    "papermill": {
     "duration": 0.029195,
     "end_time": "2024-08-14T20:19:32.708129",
     "exception": false,
     "start_time": "2024-08-14T20:19:32.678934",
     "status": "completed"
    },
    "tags": []
   },
   "source": [
    "*  Country"
   ]
  },
  {
   "cell_type": "code",
   "execution_count": 24,
   "id": "afde0088",
   "metadata": {
    "execution": {
     "iopub.execute_input": "2024-08-14T20:19:32.769021Z",
     "iopub.status.busy": "2024-08-14T20:19:32.768618Z",
     "iopub.status.idle": "2024-08-14T20:19:32.778412Z",
     "shell.execute_reply": "2024-08-14T20:19:32.777273Z"
    },
    "papermill": {
     "duration": 0.043868,
     "end_time": "2024-08-14T20:19:32.781155",
     "exception": false,
     "start_time": "2024-08-14T20:19:32.737287",
     "status": "completed"
    },
    "tags": []
   },
   "outputs": [
    {
     "data": {
      "text/plain": [
       "'United States'"
      ]
     },
     "execution_count": 24,
     "metadata": {},
     "output_type": "execute_result"
    }
   ],
   "source": [
    "# the most country make movie and tv\n",
    "df[\"country\"].value_counts().idxmax()"
   ]
  },
  {
   "cell_type": "code",
   "execution_count": 25,
   "id": "08b318ee",
   "metadata": {
    "execution": {
     "iopub.execute_input": "2024-08-14T20:19:32.845232Z",
     "iopub.status.busy": "2024-08-14T20:19:32.844824Z",
     "iopub.status.idle": "2024-08-14T20:19:32.854709Z",
     "shell.execute_reply": "2024-08-14T20:19:32.853451Z"
    },
    "papermill": {
     "duration": 0.045124,
     "end_time": "2024-08-14T20:19:32.857215",
     "exception": false,
     "start_time": "2024-08-14T20:19:32.812091",
     "status": "completed"
    },
    "tags": []
   },
   "outputs": [
    {
     "data": {
      "text/plain": [
       "3240"
      ]
     },
     "execution_count": 25,
     "metadata": {},
     "output_type": "execute_result"
    }
   ],
   "source": [
    "# number\n",
    "df[\"country\"].value_counts().max()"
   ]
  },
  {
   "cell_type": "code",
   "execution_count": 26,
   "id": "d309a2c9",
   "metadata": {
    "execution": {
     "iopub.execute_input": "2024-08-14T20:19:32.918254Z",
     "iopub.status.busy": "2024-08-14T20:19:32.917773Z",
     "iopub.status.idle": "2024-08-14T20:19:32.935638Z",
     "shell.execute_reply": "2024-08-14T20:19:32.934439Z"
    },
    "papermill": {
     "duration": 0.051104,
     "end_time": "2024-08-14T20:19:32.938064",
     "exception": false,
     "start_time": "2024-08-14T20:19:32.886960",
     "status": "completed"
    },
    "tags": []
   },
   "outputs": [
    {
     "data": {
      "text/html": [
       "<div>\n",
       "<style scoped>\n",
       "    .dataframe tbody tr th:only-of-type {\n",
       "        vertical-align: middle;\n",
       "    }\n",
       "\n",
       "    .dataframe tbody tr th {\n",
       "        vertical-align: top;\n",
       "    }\n",
       "\n",
       "    .dataframe thead th {\n",
       "        text-align: right;\n",
       "    }\n",
       "</style>\n",
       "<table border=\"1\" class=\"dataframe\">\n",
       "  <thead>\n",
       "    <tr style=\"text-align: right;\">\n",
       "      <th></th>\n",
       "      <th>country</th>\n",
       "      <th>count</th>\n",
       "    </tr>\n",
       "  </thead>\n",
       "  <tbody>\n",
       "    <tr>\n",
       "      <th>0</th>\n",
       "      <td>United States</td>\n",
       "      <td>3240</td>\n",
       "    </tr>\n",
       "    <tr>\n",
       "      <th>1</th>\n",
       "      <td>India</td>\n",
       "      <td>1056</td>\n",
       "    </tr>\n",
       "    <tr>\n",
       "      <th>2</th>\n",
       "      <td>United Kingdom</td>\n",
       "      <td>638</td>\n",
       "    </tr>\n",
       "    <tr>\n",
       "      <th>3</th>\n",
       "      <td>Pakistan</td>\n",
       "      <td>420</td>\n",
       "    </tr>\n",
       "    <tr>\n",
       "      <th>4</th>\n",
       "      <td>Not Given</td>\n",
       "      <td>287</td>\n",
       "    </tr>\n",
       "    <tr>\n",
       "      <th>5</th>\n",
       "      <td>Canada</td>\n",
       "      <td>271</td>\n",
       "    </tr>\n",
       "    <tr>\n",
       "      <th>6</th>\n",
       "      <td>Japan</td>\n",
       "      <td>259</td>\n",
       "    </tr>\n",
       "    <tr>\n",
       "      <th>7</th>\n",
       "      <td>South Korea</td>\n",
       "      <td>214</td>\n",
       "    </tr>\n",
       "    <tr>\n",
       "      <th>8</th>\n",
       "      <td>France</td>\n",
       "      <td>213</td>\n",
       "    </tr>\n",
       "    <tr>\n",
       "      <th>9</th>\n",
       "      <td>Spain</td>\n",
       "      <td>182</td>\n",
       "    </tr>\n",
       "  </tbody>\n",
       "</table>\n",
       "</div>"
      ],
      "text/plain": [
       "          country  count\n",
       "0   United States   3240\n",
       "1           India   1056\n",
       "2  United Kingdom    638\n",
       "3        Pakistan    420\n",
       "4       Not Given    287\n",
       "5          Canada    271\n",
       "6           Japan    259\n",
       "7     South Korea    214\n",
       "8          France    213\n",
       "9           Spain    182"
      ]
     },
     "execution_count": 26,
     "metadata": {},
     "output_type": "execute_result"
    }
   ],
   "source": [
    "country=df['country'].value_counts().reset_index().sort_values(by='count',ascending = False).head(10)\n",
    "country"
   ]
  },
  {
   "cell_type": "code",
   "execution_count": 27,
   "id": "c1479e4b",
   "metadata": {
    "execution": {
     "iopub.execute_input": "2024-08-14T20:19:32.998996Z",
     "iopub.status.busy": "2024-08-14T20:19:32.998567Z",
     "iopub.status.idle": "2024-08-14T20:19:33.489106Z",
     "shell.execute_reply": "2024-08-14T20:19:33.487883Z"
    },
    "papermill": {
     "duration": 0.524451,
     "end_time": "2024-08-14T20:19:33.491955",
     "exception": false,
     "start_time": "2024-08-14T20:19:32.967504",
     "status": "completed"
    },
    "tags": []
   },
   "outputs": [
    {
     "data": {
      "text/plain": [
       "Text(0, 0.5, 'No of Movies')"
      ]
     },
     "execution_count": 27,
     "metadata": {},
     "output_type": "execute_result"
    },
    {
     "data": {
      "image/png": "[encoded data removed]",
      "text/plain": [
       "<Figure size 2000x800 with 1 Axes>"
      ]
     },
     "metadata": {},
     "output_type": "display_data"
    }
   ],
   "source": [
    "plt.figure(figsize=(20,8))\n",
    "plt.title('Top 10 countries')\n",
    "sns.barplot(x='country',y='count',data=country)\n",
    "plt.xlabel('Country')\n",
    "plt.ylabel('No of Movies')"
   ]
  },
  {
   "cell_type": "markdown",
   "id": "cc897d54",
   "metadata": {
    "papermill": {
     "duration": 0.030065,
     "end_time": "2024-08-14T20:19:33.552533",
     "exception": false,
     "start_time": "2024-08-14T20:19:33.522468",
     "status": "completed"
    },
    "tags": []
   },
   "source": [
    "*  Date Added"
   ]
  },
  {
   "cell_type": "code",
   "execution_count": 28,
   "id": "b6f06ae6",
   "metadata": {
    "execution": {
     "iopub.execute_input": "2024-08-14T20:19:33.615005Z",
     "iopub.status.busy": "2024-08-14T20:19:33.614535Z",
     "iopub.status.idle": "2024-08-14T20:19:33.625770Z",
     "shell.execute_reply": "2024-08-14T20:19:33.624647Z"
    },
    "papermill": {
     "duration": 0.045508,
     "end_time": "2024-08-14T20:19:33.628377",
     "exception": false,
     "start_time": "2024-08-14T20:19:33.582869",
     "status": "completed"
    },
    "tags": []
   },
   "outputs": [
    {
     "data": {
      "text/plain": [
       "Timestamp('2020-01-01 00:00:00')"
      ]
     },
     "execution_count": 28,
     "metadata": {},
     "output_type": "execute_result"
    }
   ],
   "source": [
    "# the most day added \"2020-01-01\"\n",
    "df[\"date\"].value_counts().idxmax()"
   ]
  },
  {
   "cell_type": "markdown",
   "id": "fdd5fb6f",
   "metadata": {
    "papermill": {
     "duration": 0.031659,
     "end_time": "2024-08-14T20:19:33.691125",
     "exception": false,
     "start_time": "2024-08-14T20:19:33.659466",
     "status": "completed"
    },
    "tags": []
   },
   "source": [
    "*  release_year"
   ]
  },
  {
   "cell_type": "code",
   "execution_count": 29,
   "id": "f1c09964",
   "metadata": {
    "execution": {
     "iopub.execute_input": "2024-08-14T20:19:33.755317Z",
     "iopub.status.busy": "2024-08-14T20:19:33.754189Z",
     "iopub.status.idle": "2024-08-14T20:19:33.764203Z",
     "shell.execute_reply": "2024-08-14T20:19:33.762931Z"
    },
    "papermill": {
     "duration": 0.044469,
     "end_time": "2024-08-14T20:19:33.766633",
     "exception": false,
     "start_time": "2024-08-14T20:19:33.722164",
     "status": "completed"
    },
    "tags": []
   },
   "outputs": [
    {
     "data": {
      "text/plain": [
       "release_year\n",
       "2018    1144\n",
       "2017    1030\n",
       "2019    1029\n",
       "2020     953\n",
       "2016     901\n",
       "        ... \n",
       "1966       1\n",
       "1959       1\n",
       "1925       1\n",
       "1947       1\n",
       "1961       1\n",
       "Name: count, Length: 74, dtype: int64"
      ]
     },
     "execution_count": 29,
     "metadata": {},
     "output_type": "execute_result"
    }
   ],
   "source": [
    "df[\"release_year\"].value_counts()"
   ]
  },
  {
   "cell_type": "markdown",
   "id": "742249ab",
   "metadata": {
    "papermill": {
     "duration": 0.031314,
     "end_time": "2024-08-14T20:19:33.828693",
     "exception": false,
     "start_time": "2024-08-14T20:19:33.797379",
     "status": "completed"
    },
    "tags": []
   },
   "source": [
    "*  rating"
   ]
  },
  {
   "cell_type": "code",
   "execution_count": 30,
   "id": "99b7f0d6",
   "metadata": {
    "execution": {
     "iopub.execute_input": "2024-08-14T20:19:33.892381Z",
     "iopub.status.busy": "2024-08-14T20:19:33.891580Z",
     "iopub.status.idle": "2024-08-14T20:19:33.900748Z",
     "shell.execute_reply": "2024-08-14T20:19:33.899339Z"
    },
    "papermill": {
     "duration": 0.044058,
     "end_time": "2024-08-14T20:19:33.903362",
     "exception": false,
     "start_time": "2024-08-14T20:19:33.859304",
     "status": "completed"
    },
    "tags": []
   },
   "outputs": [
    {
     "data": {
      "text/plain": [
       "['PG-13',\n",
       " 'TV-MA',\n",
       " 'TV-PG',\n",
       " 'TV-14',\n",
       " 'TV-Y7',\n",
       " 'TV-Y',\n",
       " 'PG',\n",
       " 'TV-G',\n",
       " 'R',\n",
       " 'G',\n",
       " 'NC-17',\n",
       " 'NR',\n",
       " 'TV-Y7-FV',\n",
       " 'UR']"
      ]
     },
     "execution_count": 30,
     "metadata": {},
     "output_type": "execute_result"
    }
   ],
   "source": [
    "# type of rating\n",
    "df[\"rating\"].unique().tolist()"
   ]
  },
  {
   "cell_type": "code",
   "execution_count": 31,
   "id": "3fa78300",
   "metadata": {
    "execution": {
     "iopub.execute_input": "2024-08-14T20:19:33.967760Z",
     "iopub.status.busy": "2024-08-14T20:19:33.966721Z",
     "iopub.status.idle": "2024-08-14T20:19:34.273129Z",
     "shell.execute_reply": "2024-08-14T20:19:34.271951Z"
    },
    "papermill": {
     "duration": 0.341517,
     "end_time": "2024-08-14T20:19:34.275775",
     "exception": false,
     "start_time": "2024-08-14T20:19:33.934258",
     "status": "completed"
    },
    "tags": []
   },
   "outputs": [
    {
     "data": {
      "text/plain": [
       "<Axes: xlabel='rating'>"
      ]
     },
     "execution_count": 31,
     "metadata": {},
     "output_type": "execute_result"
    },
    {
     "data": {
      "image/png": "[encoded data removed]",
      "text/plain": [
       "<Figure size 640x480 with 1 Axes>"
      ]
     },
     "metadata": {},
     "output_type": "display_data"
    }
   ],
   "source": [
    "df.rating.value_counts().plot(kind = \"bar\")"
   ]
  },
  {
   "cell_type": "markdown",
   "id": "a5abddbb",
   "metadata": {
    "papermill": {
     "duration": 0.031215,
     "end_time": "2024-08-14T20:19:34.338977",
     "exception": false,
     "start_time": "2024-08-14T20:19:34.307762",
     "status": "completed"
    },
    "tags": []
   },
   "source": [
    "*  duration"
   ]
  },
  {
   "cell_type": "code",
   "execution_count": 32,
   "id": "f0123416",
   "metadata": {
    "execution": {
     "iopub.execute_input": "2024-08-14T20:19:34.404131Z",
     "iopub.status.busy": "2024-08-14T20:19:34.403682Z",
     "iopub.status.idle": "2024-08-14T20:19:34.415357Z",
     "shell.execute_reply": "2024-08-14T20:19:34.414107Z"
    },
    "papermill": {
     "duration": 0.046995,
     "end_time": "2024-08-14T20:19:34.417795",
     "exception": false,
     "start_time": "2024-08-14T20:19:34.370800",
     "status": "completed"
    },
    "tags": []
   },
   "outputs": [
    {
     "data": {
      "text/plain": [
       "duration\n",
       "1 Season      1790\n",
       "2 Seasons      421\n",
       "3 Seasons      198\n",
       "90 min         152\n",
       "97 min         146\n",
       "              ... \n",
       "5 min            1\n",
       "16 min           1\n",
       "186 min          1\n",
       "193 min          1\n",
       "11 Seasons       1\n",
       "Name: count, Length: 220, dtype: int64"
      ]
     },
     "execution_count": 32,
     "metadata": {},
     "output_type": "execute_result"
    }
   ],
   "source": [
    "df[\"duration\"].value_counts()"
   ]
  },
  {
   "cell_type": "markdown",
   "id": "cc8fd29a",
   "metadata": {
    "papermill": {
     "duration": 0.031364,
     "end_time": "2024-08-14T20:19:34.480667",
     "exception": false,
     "start_time": "2024-08-14T20:19:34.449303",
     "status": "completed"
    },
    "tags": []
   },
   "source": [
    "*  category"
   ]
  },
  {
   "cell_type": "code",
   "execution_count": 33,
   "id": "defb5751",
   "metadata": {
    "execution": {
     "iopub.execute_input": "2024-08-14T20:19:34.545796Z",
     "iopub.status.busy": "2024-08-14T20:19:34.545364Z",
     "iopub.status.idle": "2024-08-14T20:19:34.554035Z",
     "shell.execute_reply": "2024-08-14T20:19:34.552762Z"
    },
    "papermill": {
     "duration": 0.044168,
     "end_time": "2024-08-14T20:19:34.556596",
     "exception": false,
     "start_time": "2024-08-14T20:19:34.512428",
     "status": "completed"
    },
    "tags": []
   },
   "outputs": [
    {
     "data": {
      "text/plain": [
       "513"
      ]
     },
     "execution_count": 33,
     "metadata": {},
     "output_type": "execute_result"
    }
   ],
   "source": [
    "# number of category\n",
    "len(df[\"category\"].unique())"
   ]
  },
  {
   "cell_type": "code",
   "execution_count": 34,
   "id": "6be246a4",
   "metadata": {
    "execution": {
     "iopub.execute_input": "2024-08-14T20:19:34.623531Z",
     "iopub.status.busy": "2024-08-14T20:19:34.622647Z",
     "iopub.status.idle": "2024-08-14T20:19:34.634504Z",
     "shell.execute_reply": "2024-08-14T20:19:34.633331Z"
    },
    "papermill": {
     "duration": 0.047802,
     "end_time": "2024-08-14T20:19:34.637101",
     "exception": false,
     "start_time": "2024-08-14T20:19:34.589299",
     "status": "completed"
    },
    "tags": []
   },
   "outputs": [
    {
     "data": {
      "text/plain": [
       "category\n",
       "Dramas, International Movies                                362\n",
       "Documentaries                                               359\n",
       "Stand-Up Comedy                                             334\n",
       "Comedies, Dramas, International Movies                      274\n",
       "Dramas, Independent Movies, International Movies            252\n",
       "                                                           ... \n",
       "Anime Features                                                1\n",
       "Action & Adventure, Horror Movies, Independent Movies         1\n",
       "Action & Adventure, Classic Movies, International Movies      1\n",
       "Cult Movies, Independent Movies, Thrillers                    1\n",
       "Classic & Cult TV, Crime TV Shows, TV Dramas                  1\n",
       "Name: count, Length: 513, dtype: int64"
      ]
     },
     "execution_count": 34,
     "metadata": {},
     "output_type": "execute_result"
    }
   ],
   "source": [
    "df[\"category\"].value_counts()"
   ]
  },
  {
   "cell_type": "markdown",
   "id": "3d910995",
   "metadata": {
    "papermill": {
     "duration": 0.03174,
     "end_time": "2024-08-14T20:19:34.700736",
     "exception": false,
     "start_time": "2024-08-14T20:19:34.668996",
     "status": "completed"
    },
    "tags": []
   },
   "source": [
    "#  **Multivariate Analysis**"
   ]
  },
  {
   "cell_type": "code",
   "execution_count": 35,
   "id": "ff4d8dc1",
   "metadata": {
    "execution": {
     "iopub.execute_input": "2024-08-14T20:19:34.766261Z",
     "iopub.status.busy": "2024-08-14T20:19:34.765754Z",
     "iopub.status.idle": "2024-08-14T20:19:34.783260Z",
     "shell.execute_reply": "2024-08-14T20:19:34.782095Z"
    },
    "papermill": {
     "duration": 0.053071,
     "end_time": "2024-08-14T20:19:34.785742",
     "exception": false,
     "start_time": "2024-08-14T20:19:34.732671",
     "status": "completed"
    },
    "tags": []
   },
   "outputs": [
    {
     "data": {
      "text/html": [
       "<div>\n",
       "<style scoped>\n",
       "    .dataframe tbody tr th:only-of-type {\n",
       "        vertical-align: middle;\n",
       "    }\n",
       "\n",
       "    .dataframe tbody tr th {\n",
       "        vertical-align: top;\n",
       "    }\n",
       "\n",
       "    .dataframe thead th {\n",
       "        text-align: right;\n",
       "    }\n",
       "</style>\n",
       "<table border=\"1\" class=\"dataframe\">\n",
       "  <thead>\n",
       "    <tr style=\"text-align: right;\">\n",
       "      <th></th>\n",
       "      <th>show_id</th>\n",
       "      <th>type</th>\n",
       "      <th>title</th>\n",
       "      <th>director</th>\n",
       "      <th>country</th>\n",
       "      <th>date_added</th>\n",
       "      <th>release_year</th>\n",
       "      <th>rating</th>\n",
       "      <th>duration</th>\n",
       "      <th>category</th>\n",
       "      <th>date</th>\n",
       "      <th>year</th>\n",
       "    </tr>\n",
       "  </thead>\n",
       "  <tbody>\n",
       "    <tr>\n",
       "      <th>0</th>\n",
       "      <td>s1</td>\n",
       "      <td>Movie</td>\n",
       "      <td>Dick Johnson Is Dead</td>\n",
       "      <td>Kirsten Johnson</td>\n",
       "      <td>United States</td>\n",
       "      <td>9/25/2021</td>\n",
       "      <td>2020</td>\n",
       "      <td>PG-13</td>\n",
       "      <td>90 min</td>\n",
       "      <td>Documentaries</td>\n",
       "      <td>2021-09-25</td>\n",
       "      <td>2021</td>\n",
       "    </tr>\n",
       "    <tr>\n",
       "      <th>1</th>\n",
       "      <td>s3</td>\n",
       "      <td>TV Show</td>\n",
       "      <td>Ganglands</td>\n",
       "      <td>Julien Leclercq</td>\n",
       "      <td>France</td>\n",
       "      <td>9/24/2021</td>\n",
       "      <td>2021</td>\n",
       "      <td>TV-MA</td>\n",
       "      <td>1 Season</td>\n",
       "      <td>Crime TV Shows, International TV Shows, TV Act...</td>\n",
       "      <td>2021-09-24</td>\n",
       "      <td>2021</td>\n",
       "    </tr>\n",
       "  </tbody>\n",
       "</table>\n",
       "</div>"
      ],
      "text/plain": [
       "  show_id     type                 title         director        country  \\\n",
       "0      s1    Movie  Dick Johnson Is Dead  Kirsten Johnson  United States   \n",
       "1      s3  TV Show             Ganglands  Julien Leclercq         France   \n",
       "\n",
       "  date_added  release_year rating  duration  \\\n",
       "0  9/25/2021          2020  PG-13    90 min   \n",
       "1  9/24/2021          2021  TV-MA  1 Season   \n",
       "\n",
       "                                            category       date  year  \n",
       "0                                      Documentaries 2021-09-25  2021  \n",
       "1  Crime TV Shows, International TV Shows, TV Act... 2021-09-24  2021  "
      ]
     },
     "execution_count": 35,
     "metadata": {},
     "output_type": "execute_result"
    }
   ],
   "source": [
    "df.head(2)"
   ]
  },
  {
   "cell_type": "code",
   "execution_count": 36,
   "id": "ca1aafc4",
   "metadata": {
    "execution": {
     "iopub.execute_input": "2024-08-14T20:19:34.852961Z",
     "iopub.status.busy": "2024-08-14T20:19:34.852519Z",
     "iopub.status.idle": "2024-08-14T20:19:34.999158Z",
     "shell.execute_reply": "2024-08-14T20:19:34.997725Z"
    },
    "papermill": {
     "duration": 0.183776,
     "end_time": "2024-08-14T20:19:35.001797",
     "exception": false,
     "start_time": "2024-08-14T20:19:34.818021",
     "status": "completed"
    },
    "tags": []
   },
   "outputs": [
    {
     "name": "stdout",
     "output_type": "stream",
     "text": [
      "the_most_director type\n",
      "Movie      Not Given\n",
      "TV Show    Not Given\n",
      "dtype: object\n"
     ]
    }
   ],
   "source": [
    "the_most_director=pd.crosstab(df['director'], df['type']).idxmax()\n",
    "print(\"the_most_director\", the_most_director)"
   ]
  },
  {
   "cell_type": "code",
   "execution_count": 37,
   "id": "9008adae",
   "metadata": {
    "execution": {
     "iopub.execute_input": "2024-08-14T20:19:35.068955Z",
     "iopub.status.busy": "2024-08-14T20:19:35.068566Z",
     "iopub.status.idle": "2024-08-14T20:19:35.206357Z",
     "shell.execute_reply": "2024-08-14T20:19:35.204809Z"
    },
    "papermill": {
     "duration": 0.174887,
     "end_time": "2024-08-14T20:19:35.209469",
     "exception": false,
     "start_time": "2024-08-14T20:19:35.034582",
     "status": "completed"
    },
    "tags": []
   },
   "outputs": [
    {
     "name": "stdout",
     "output_type": "stream",
     "text": [
      "director_counts type\n",
      "Movie       173\n",
      "TV Show    2414\n",
      "dtype: int64\n"
     ]
    }
   ],
   "source": [
    "director_counts=pd.crosstab(df['director'], df['type']).max()\n",
    "print(\"director_counts\", director_counts)"
   ]
  },
  {
   "cell_type": "code",
   "execution_count": 38,
   "id": "a8bd3e2d",
   "metadata": {
    "execution": {
     "iopub.execute_input": "2024-08-14T20:19:35.278909Z",
     "iopub.status.busy": "2024-08-14T20:19:35.278497Z",
     "iopub.status.idle": "2024-08-14T20:19:35.299381Z",
     "shell.execute_reply": "2024-08-14T20:19:35.298026Z"
    },
    "papermill": {
     "duration": 0.059649,
     "end_time": "2024-08-14T20:19:35.302368",
     "exception": false,
     "start_time": "2024-08-14T20:19:35.242719",
     "status": "completed"
    },
    "tags": []
   },
   "outputs": [],
   "source": [
    "count_director=df.groupby(\"director\")[\"type\"].value_counts().reset_index()"
   ]
  },
  {
   "cell_type": "code",
   "execution_count": 39,
   "id": "2d346d5d",
   "metadata": {
    "execution": {
     "iopub.execute_input": "2024-08-14T20:19:35.369263Z",
     "iopub.status.busy": "2024-08-14T20:19:35.368818Z",
     "iopub.status.idle": "2024-08-14T20:19:35.379371Z",
     "shell.execute_reply": "2024-08-14T20:19:35.378227Z"
    },
    "papermill": {
     "duration": 0.047397,
     "end_time": "2024-08-14T20:19:35.382159",
     "exception": false,
     "start_time": "2024-08-14T20:19:35.334762",
     "status": "completed"
    },
    "tags": []
   },
   "outputs": [
    {
     "data": {
      "text/plain": [
       "2587"
      ]
     },
     "execution_count": 39,
     "metadata": {},
     "output_type": "execute_result"
    }
   ],
   "source": [
    "count_director[count_director.director==\"Not Given\"][\"count\"].sum()"
   ]
  },
  {
   "cell_type": "code",
   "execution_count": 40,
   "id": "1bf0f0b5",
   "metadata": {
    "execution": {
     "iopub.execute_input": "2024-08-14T20:19:35.450605Z",
     "iopub.status.busy": "2024-08-14T20:19:35.450191Z",
     "iopub.status.idle": "2024-08-14T20:19:35.461094Z",
     "shell.execute_reply": "2024-08-14T20:19:35.459942Z"
    },
    "papermill": {
     "duration": 0.048074,
     "end_time": "2024-08-14T20:19:35.463599",
     "exception": false,
     "start_time": "2024-08-14T20:19:35.415525",
     "status": "completed"
    },
    "tags": []
   },
   "outputs": [
    {
     "data": {
      "text/plain": [
       "6200"
      ]
     },
     "execution_count": 40,
     "metadata": {},
     "output_type": "execute_result"
    }
   ],
   "source": [
    "count_director[count_director.director!=\"Not Given\"][\"count\"].sum()"
   ]
  },
  {
   "cell_type": "code",
   "execution_count": 41,
   "id": "8edab745",
   "metadata": {
    "execution": {
     "iopub.execute_input": "2024-08-14T20:19:35.530926Z",
     "iopub.status.busy": "2024-08-14T20:19:35.530522Z",
     "iopub.status.idle": "2024-08-14T20:19:35.535880Z",
     "shell.execute_reply": "2024-08-14T20:19:35.534614Z"
    },
    "papermill": {
     "duration": 0.042082,
     "end_time": "2024-08-14T20:19:35.538585",
     "exception": false,
     "start_time": "2024-08-14T20:19:35.496503",
     "status": "completed"
    },
    "tags": []
   },
   "outputs": [],
   "source": [
    "list_Given_NonGiven=[6200,2587]"
   ]
  },
  {
   "cell_type": "code",
   "execution_count": 42,
   "id": "36aa7eab",
   "metadata": {
    "execution": {
     "iopub.execute_input": "2024-08-14T20:19:35.605856Z",
     "iopub.status.busy": "2024-08-14T20:19:35.605483Z",
     "iopub.status.idle": "2024-08-14T20:19:35.763414Z",
     "shell.execute_reply": "2024-08-14T20:19:35.761385Z"
    },
    "papermill": {
     "duration": 0.198744,
     "end_time": "2024-08-14T20:19:35.770324",
     "exception": false,
     "start_time": "2024-08-14T20:19:35.571580",
     "status": "completed"
    },
    "tags": []
   },
   "outputs": [
    {
     "data": {
      "image/png": "[encoded data removed]",
      "text/plain": [
       "<Figure size 2000x600 with 1 Axes>"
      ]
     },
     "metadata": {},
     "output_type": "display_data"
    }
   ],
   "source": [
    "plt.figure(figsize=(20,6))\n",
    "plt.pie(list_Given_NonGiven,labels=[\"Given\",\"Not Given\"],autopct='%1.3f%%',explode=[0,0.1], colors=['purple','#91ff99'])\n",
    "plt.title('Given Directors Vs Not Given Directors')\n",
    "plt.show()"
   ]
  },
  {
   "cell_type": "code",
   "execution_count": 43,
   "id": "0587c03a",
   "metadata": {
    "execution": {
     "iopub.execute_input": "2024-08-14T20:19:35.858982Z",
     "iopub.status.busy": "2024-08-14T20:19:35.858566Z",
     "iopub.status.idle": "2024-08-14T20:19:35.875163Z",
     "shell.execute_reply": "2024-08-14T20:19:35.874016Z"
    },
    "papermill": {
     "duration": 0.054786,
     "end_time": "2024-08-14T20:19:35.877794",
     "exception": false,
     "start_time": "2024-08-14T20:19:35.823008",
     "status": "completed"
    },
    "tags": []
   },
   "outputs": [
    {
     "data": {
      "text/html": [
       "<div>\n",
       "<style scoped>\n",
       "    .dataframe tbody tr th:only-of-type {\n",
       "        vertical-align: middle;\n",
       "    }\n",
       "\n",
       "    .dataframe tbody tr th {\n",
       "        vertical-align: top;\n",
       "    }\n",
       "\n",
       "    .dataframe thead th {\n",
       "        text-align: right;\n",
       "    }\n",
       "</style>\n",
       "<table border=\"1\" class=\"dataframe\">\n",
       "  <thead>\n",
       "    <tr style=\"text-align: right;\">\n",
       "      <th></th>\n",
       "      <th>director</th>\n",
       "      <th>type</th>\n",
       "      <th>count</th>\n",
       "    </tr>\n",
       "  </thead>\n",
       "  <tbody>\n",
       "    <tr>\n",
       "      <th>3101</th>\n",
       "      <td>Not Given</td>\n",
       "      <td>Movie</td>\n",
       "      <td>173</td>\n",
       "    </tr>\n",
       "    <tr>\n",
       "      <th>3432</th>\n",
       "      <td>Rajiv Chilaka</td>\n",
       "      <td>Movie</td>\n",
       "      <td>19</td>\n",
       "    </tr>\n",
       "    <tr>\n",
       "      <th>3484</th>\n",
       "      <td>Raúl Campos, Jan Suter</td>\n",
       "      <td>Movie</td>\n",
       "      <td>18</td>\n",
       "    </tr>\n",
       "    <tr>\n",
       "      <th>4092</th>\n",
       "      <td>Suhas Kadav</td>\n",
       "      <td>Movie</td>\n",
       "      <td>16</td>\n",
       "    </tr>\n",
       "    <tr>\n",
       "      <th>2623</th>\n",
       "      <td>Marcus Raboy</td>\n",
       "      <td>Movie</td>\n",
       "      <td>15</td>\n",
       "    </tr>\n",
       "    <tr>\n",
       "      <th>1803</th>\n",
       "      <td>Jay Karas</td>\n",
       "      <td>Movie</td>\n",
       "      <td>14</td>\n",
       "    </tr>\n",
       "    <tr>\n",
       "      <th>690</th>\n",
       "      <td>Cathy Garcia-Molina</td>\n",
       "      <td>Movie</td>\n",
       "      <td>13</td>\n",
       "    </tr>\n",
       "    <tr>\n",
       "      <th>4532</th>\n",
       "      <td>Youssef Chahine</td>\n",
       "      <td>Movie</td>\n",
       "      <td>12</td>\n",
       "    </tr>\n",
       "    <tr>\n",
       "      <th>1800</th>\n",
       "      <td>Jay Chapman</td>\n",
       "      <td>Movie</td>\n",
       "      <td>12</td>\n",
       "    </tr>\n",
       "    <tr>\n",
       "      <th>2699</th>\n",
       "      <td>Martin Scorsese</td>\n",
       "      <td>Movie</td>\n",
       "      <td>12</td>\n",
       "    </tr>\n",
       "  </tbody>\n",
       "</table>\n",
       "</div>"
      ],
      "text/plain": [
       "                    director   type  count\n",
       "3101               Not Given  Movie    173\n",
       "3432           Rajiv Chilaka  Movie     19\n",
       "3484  Raúl Campos, Jan Suter  Movie     18\n",
       "4092             Suhas Kadav  Movie     16\n",
       "2623            Marcus Raboy  Movie     15\n",
       "1803               Jay Karas  Movie     14\n",
       "690      Cathy Garcia-Molina  Movie     13\n",
       "4532         Youssef Chahine  Movie     12\n",
       "1800             Jay Chapman  Movie     12\n",
       "2699         Martin Scorsese  Movie     12"
      ]
     },
     "execution_count": 43,
     "metadata": {},
     "output_type": "execute_result"
    }
   ],
   "source": [
    "Movie_count_director=count_director[count_director.type==\"Movie\"].sort_values(by=\"count\",ascending=False).head(10)\n",
    "Movie_count_director"
   ]
  },
  {
   "cell_type": "code",
   "execution_count": 44,
   "id": "8e3da67a",
   "metadata": {
    "execution": {
     "iopub.execute_input": "2024-08-14T20:19:35.946846Z",
     "iopub.status.busy": "2024-08-14T20:19:35.946426Z",
     "iopub.status.idle": "2024-08-14T20:19:36.366975Z",
     "shell.execute_reply": "2024-08-14T20:19:36.365880Z"
    },
    "papermill": {
     "duration": 0.458089,
     "end_time": "2024-08-14T20:19:36.369492",
     "exception": false,
     "start_time": "2024-08-14T20:19:35.911403",
     "status": "completed"
    },
    "tags": []
   },
   "outputs": [
    {
     "data": {
      "image/png": "[encoded data removed]",
      "text/plain": [
       "<Figure size 1200x600 with 1 Axes>"
      ]
     },
     "metadata": {},
     "output_type": "display_data"
    }
   ],
   "source": [
    "plt.figure(figsize=(12, 6))\n",
    "\n",
    "\n",
    "sns.barplot(x='director', y='count', data=Movie_count_director, color='blue')\n",
    "\n",
    "\n",
    "for index, value in enumerate(Movie_count_director['count']):\n",
    "    plt.text(index, value + 0.1, str(value), ha='center')\n",
    "\n",
    "plt.title('Directors with Most Movies on Netflix')\n",
    "plt.xlabel('Director')\n",
    "plt.ylabel('Count')\n",
    "plt.xticks(rotation=45)\n",
    "plt.show()"
   ]
  },
  {
   "cell_type": "code",
   "execution_count": 45,
   "id": "f06fc0af",
   "metadata": {
    "execution": {
     "iopub.execute_input": "2024-08-14T20:19:36.440080Z",
     "iopub.status.busy": "2024-08-14T20:19:36.439640Z",
     "iopub.status.idle": "2024-08-14T20:19:36.788724Z",
     "shell.execute_reply": "2024-08-14T20:19:36.787540Z"
    },
    "papermill": {
     "duration": 0.387387,
     "end_time": "2024-08-14T20:19:36.791344",
     "exception": false,
     "start_time": "2024-08-14T20:19:36.403957",
     "status": "completed"
    },
    "tags": []
   },
   "outputs": [
    {
     "data": {
      "image/png": "[encoded data removed]",
      "text/plain": [
       "<Figure size 640x480 with 1 Axes>"
      ]
     },
     "metadata": {},
     "output_type": "display_data"
    }
   ],
   "source": [
    "TV_show_count_director=count_director[count_director.type==\"TV Show\"].sort_values(by=\"count\",ascending=False).head(10)\n",
    "TV_show_count_director.plot(kind=\"bar\" ,x=\"director\",y=\"count\",title=\"Directors with Most TV Show on Netflix\" ,color=\"red\")\n",
    "plt.xticks(rotation=60)\n",
    "plt.show()"
   ]
  },
  {
   "cell_type": "code",
   "execution_count": 46,
   "id": "9b82cff3",
   "metadata": {
    "execution": {
     "iopub.execute_input": "2024-08-14T20:19:36.864534Z",
     "iopub.status.busy": "2024-08-14T20:19:36.864125Z",
     "iopub.status.idle": "2024-08-14T20:19:36.879212Z",
     "shell.execute_reply": "2024-08-14T20:19:36.877911Z"
    },
    "papermill": {
     "duration": 0.055278,
     "end_time": "2024-08-14T20:19:36.881862",
     "exception": false,
     "start_time": "2024-08-14T20:19:36.826584",
     "status": "completed"
    },
    "tags": []
   },
   "outputs": [],
   "source": [
    "total_content_director = count_director.groupby('director')['count'].sum().reset_index()\n",
    "\n",
    "top_directors = total_content_director.sort_values(by='count', ascending=False).head(11)  \n",
    "top_directors = top_directors.iloc[1:]  # Skip the first row"
   ]
  },
  {
   "cell_type": "code",
   "execution_count": 47,
   "id": "9b872cca",
   "metadata": {
    "execution": {
     "iopub.execute_input": "2024-08-14T20:19:36.954723Z",
     "iopub.status.busy": "2024-08-14T20:19:36.954348Z",
     "iopub.status.idle": "2024-08-14T20:19:37.353881Z",
     "shell.execute_reply": "2024-08-14T20:19:37.352536Z"
    },
    "papermill": {
     "duration": 0.439468,
     "end_time": "2024-08-14T20:19:37.356790",
     "exception": false,
     "start_time": "2024-08-14T20:19:36.917322",
     "status": "completed"
    },
    "tags": []
   },
   "outputs": [
    {
     "data": {
      "image/png": "[encoded data removed]",
      "text/plain": [
       "<Figure size 1200x600 with 1 Axes>"
      ]
     },
     "metadata": {},
     "output_type": "display_data"
    }
   ],
   "source": [
    "# Plotting \n",
    "plt.figure(figsize=(12, 6))\n",
    "sns.barplot(y='director', x='count', data=top_directors, palette='Blues_d')\n",
    "\n",
    "# Annotate the bars with the count values\n",
    "for index, value in enumerate(top_directors['count']):\n",
    "    plt.text(value + 0.1, index, str(value), va='center')\n",
    "\n",
    "plt.title('Directors with Most Contents on Netflix (Excluding Top 1)')\n",
    "plt.xlabel('Total Content Count')\n",
    "plt.ylabel('Director')\n",
    "plt.show()"
   ]
  },
  {
   "cell_type": "code",
   "execution_count": 48,
   "id": "1b9fe8ab",
   "metadata": {
    "execution": {
     "iopub.execute_input": "2024-08-14T20:19:37.431629Z",
     "iopub.status.busy": "2024-08-14T20:19:37.430761Z",
     "iopub.status.idle": "2024-08-14T20:19:37.453022Z",
     "shell.execute_reply": "2024-08-14T20:19:37.451375Z"
    },
    "papermill": {
     "duration": 0.063005,
     "end_time": "2024-08-14T20:19:37.455976",
     "exception": false,
     "start_time": "2024-08-14T20:19:37.392971",
     "status": "completed"
    },
    "tags": []
   },
   "outputs": [
    {
     "name": "stdout",
     "output_type": "stream",
     "text": [
      "the most country added content  type\n",
      "Movie      United States\n",
      "TV Show    United States\n",
      "dtype: object\n"
     ]
    }
   ],
   "source": [
    "theMostCountry=pd.crosstab(df['country'], df['type']).idxmax()\n",
    "print(\"the most country added content \",theMostCountry)"
   ]
  },
  {
   "cell_type": "code",
   "execution_count": 49,
   "id": "c256ea40",
   "metadata": {
    "execution": {
     "iopub.execute_input": "2024-08-14T20:19:37.530912Z",
     "iopub.status.busy": "2024-08-14T20:19:37.530495Z",
     "iopub.status.idle": "2024-08-14T20:19:37.551523Z",
     "shell.execute_reply": "2024-08-14T20:19:37.550204Z"
    },
    "papermill": {
     "duration": 0.061528,
     "end_time": "2024-08-14T20:19:37.554444",
     "exception": false,
     "start_time": "2024-08-14T20:19:37.492916",
     "status": "completed"
    },
    "tags": []
   },
   "outputs": [
    {
     "name": "stdout",
     "output_type": "stream",
     "text": [
      "the most country added content Show by value  type\n",
      "Movie      2395\n",
      "TV Show     845\n",
      "dtype: int64\n"
     ]
    }
   ],
   "source": [
    "the_most_country =pd.crosstab(df['country'], df['type']).max()\n",
    "print(\"the most country added content Show by value \",the_most_country)"
   ]
  },
  {
   "cell_type": "code",
   "execution_count": 50,
   "id": "5ce4db65",
   "metadata": {
    "execution": {
     "iopub.execute_input": "2024-08-14T20:19:37.629415Z",
     "iopub.status.busy": "2024-08-14T20:19:37.628958Z",
     "iopub.status.idle": "2024-08-14T20:19:37.641160Z",
     "shell.execute_reply": "2024-08-14T20:19:37.640129Z"
    },
    "papermill": {
     "duration": 0.053265,
     "end_time": "2024-08-14T20:19:37.643961",
     "exception": false,
     "start_time": "2024-08-14T20:19:37.590696",
     "status": "completed"
    },
    "tags": []
   },
   "outputs": [],
   "source": [
    "CountriesByContent=df.groupby(\"country\").type.value_counts().reset_index()\n"
   ]
  },
  {
   "cell_type": "code",
   "execution_count": 51,
   "id": "31227e1a",
   "metadata": {
    "execution": {
     "iopub.execute_input": "2024-08-14T20:19:37.720385Z",
     "iopub.status.busy": "2024-08-14T20:19:37.719407Z",
     "iopub.status.idle": "2024-08-14T20:19:37.727126Z",
     "shell.execute_reply": "2024-08-14T20:19:37.725927Z"
    },
    "papermill": {
     "duration": 0.048271,
     "end_time": "2024-08-14T20:19:37.729453",
     "exception": false,
     "start_time": "2024-08-14T20:19:37.681182",
     "status": "completed"
    },
    "tags": []
   },
   "outputs": [],
   "source": [
    "TheCountries_movie=CountriesByContent[CountriesByContent.type==\"Movie\"].sort_values(by=\"count\",ascending=False).head(10)"
   ]
  },
  {
   "cell_type": "code",
   "execution_count": 52,
   "id": "b1e3a4cb",
   "metadata": {
    "execution": {
     "iopub.execute_input": "2024-08-14T20:19:37.804356Z",
     "iopub.status.busy": "2024-08-14T20:19:37.803743Z",
     "iopub.status.idle": "2024-08-14T20:19:37.811997Z",
     "shell.execute_reply": "2024-08-14T20:19:37.810672Z"
    },
    "papermill": {
     "duration": 0.048885,
     "end_time": "2024-08-14T20:19:37.814741",
     "exception": false,
     "start_time": "2024-08-14T20:19:37.765856",
     "status": "completed"
    },
    "tags": []
   },
   "outputs": [],
   "source": [
    "TheCountries_TV=CountriesByContent[CountriesByContent.type==\"TV Show\"].sort_values(by=\"count\",ascending=False).head()\n"
   ]
  },
  {
   "cell_type": "code",
   "execution_count": 53,
   "id": "55aee940",
   "metadata": {
    "execution": {
     "iopub.execute_input": "2024-08-14T20:19:37.894892Z",
     "iopub.status.busy": "2024-08-14T20:19:37.894422Z",
     "iopub.status.idle": "2024-08-14T20:19:38.482445Z",
     "shell.execute_reply": "2024-08-14T20:19:38.481154Z"
    },
    "papermill": {
     "duration": 0.632702,
     "end_time": "2024-08-14T20:19:38.485352",
     "exception": false,
     "start_time": "2024-08-14T20:19:37.852650",
     "status": "completed"
    },
    "tags": []
   },
   "outputs": [
    {
     "data": {
      "image/png": "[encoded data removed]",
      "text/plain": [
       "<Figure size 1400x800 with 1 Axes>"
      ]
     },
     "metadata": {},
     "output_type": "display_data"
    }
   ],
   "source": [
    "top_combined = pd.concat([TheCountries_movie, TheCountries_TV])\n",
    "plt.figure(figsize=(14, 8))\n",
    "sns.barplot(x='country', y='count', hue='type', data=top_combined, palette={'Movie': 'purple', 'TV Show': 'blue'},dodge=True)\n",
    "\n",
    "plt.xlabel('Count')\n",
    "plt.ylabel('Category')\n",
    "plt.title('Top 10 Countries for Movies and TV Shows')\n",
    "plt.legend(title='Type')\n",
    "plt.show()"
   ]
  },
  {
   "cell_type": "code",
   "execution_count": 54,
   "id": "8c7a54c5",
   "metadata": {
    "execution": {
     "iopub.execute_input": "2024-08-14T20:19:38.562083Z",
     "iopub.status.busy": "2024-08-14T20:19:38.561658Z",
     "iopub.status.idle": "2024-08-14T20:19:38.582877Z",
     "shell.execute_reply": "2024-08-14T20:19:38.581478Z"
    },
    "papermill": {
     "duration": 0.062536,
     "end_time": "2024-08-14T20:19:38.585476",
     "exception": false,
     "start_time": "2024-08-14T20:19:38.522940",
     "status": "completed"
    },
    "tags": []
   },
   "outputs": [
    {
     "data": {
      "text/plain": [
       "type\n",
       "Movie      2018\n",
       "TV Show    2020\n",
       "dtype: int64"
      ]
     },
     "execution_count": 54,
     "metadata": {},
     "output_type": "execute_result"
    }
   ],
   "source": [
    "the_most_release_year=pd.crosstab(df.release_year ,df.type).idxmax()\n",
    "the_most_release_year"
   ]
  },
  {
   "cell_type": "code",
   "execution_count": 55,
   "id": "25c04a6d",
   "metadata": {
    "execution": {
     "iopub.execute_input": "2024-08-14T20:19:38.664199Z",
     "iopub.status.busy": "2024-08-14T20:19:38.663750Z",
     "iopub.status.idle": "2024-08-14T20:19:38.687986Z",
     "shell.execute_reply": "2024-08-14T20:19:38.686793Z"
    },
    "papermill": {
     "duration": 0.06737,
     "end_time": "2024-08-14T20:19:38.690875",
     "exception": false,
     "start_time": "2024-08-14T20:19:38.623505",
     "status": "completed"
    },
    "tags": []
   },
   "outputs": [
    {
     "data": {
      "text/html": [
       "<div>\n",
       "<style scoped>\n",
       "    .dataframe tbody tr th:only-of-type {\n",
       "        vertical-align: middle;\n",
       "    }\n",
       "\n",
       "    .dataframe tbody tr th {\n",
       "        vertical-align: top;\n",
       "    }\n",
       "\n",
       "    .dataframe thead th {\n",
       "        text-align: right;\n",
       "    }\n",
       "</style>\n",
       "<table border=\"1\" class=\"dataframe\">\n",
       "  <thead>\n",
       "    <tr style=\"text-align: right;\">\n",
       "      <th>type</th>\n",
       "      <th>rating</th>\n",
       "      <th>Movie</th>\n",
       "      <th>TV Show</th>\n",
       "    </tr>\n",
       "  </thead>\n",
       "  <tbody>\n",
       "    <tr>\n",
       "      <th>0</th>\n",
       "      <td>TV-MA</td>\n",
       "      <td>2062</td>\n",
       "      <td>1143</td>\n",
       "    </tr>\n",
       "    <tr>\n",
       "      <th>1</th>\n",
       "      <td>TV-14</td>\n",
       "      <td>1426</td>\n",
       "      <td>729</td>\n",
       "    </tr>\n",
       "    <tr>\n",
       "      <th>2</th>\n",
       "      <td>R</td>\n",
       "      <td>796</td>\n",
       "      <td>2</td>\n",
       "    </tr>\n",
       "    <tr>\n",
       "      <th>3</th>\n",
       "      <td>TV-PG</td>\n",
       "      <td>540</td>\n",
       "      <td>321</td>\n",
       "    </tr>\n",
       "    <tr>\n",
       "      <th>4</th>\n",
       "      <td>PG-13</td>\n",
       "      <td>490</td>\n",
       "      <td>0</td>\n",
       "    </tr>\n",
       "    <tr>\n",
       "      <th>5</th>\n",
       "      <td>PG</td>\n",
       "      <td>287</td>\n",
       "      <td>0</td>\n",
       "    </tr>\n",
       "    <tr>\n",
       "      <th>6</th>\n",
       "      <td>TV-Y7</td>\n",
       "      <td>139</td>\n",
       "      <td>194</td>\n",
       "    </tr>\n",
       "    <tr>\n",
       "      <th>7</th>\n",
       "      <td>TV-Y</td>\n",
       "      <td>131</td>\n",
       "      <td>175</td>\n",
       "    </tr>\n",
       "    <tr>\n",
       "      <th>8</th>\n",
       "      <td>TV-G</td>\n",
       "      <td>126</td>\n",
       "      <td>94</td>\n",
       "    </tr>\n",
       "    <tr>\n",
       "      <th>9</th>\n",
       "      <td>NR</td>\n",
       "      <td>75</td>\n",
       "      <td>4</td>\n",
       "    </tr>\n",
       "    <tr>\n",
       "      <th>10</th>\n",
       "      <td>G</td>\n",
       "      <td>41</td>\n",
       "      <td>0</td>\n",
       "    </tr>\n",
       "    <tr>\n",
       "      <th>11</th>\n",
       "      <td>TV-Y7-FV</td>\n",
       "      <td>5</td>\n",
       "      <td>1</td>\n",
       "    </tr>\n",
       "    <tr>\n",
       "      <th>12</th>\n",
       "      <td>NC-17</td>\n",
       "      <td>3</td>\n",
       "      <td>0</td>\n",
       "    </tr>\n",
       "    <tr>\n",
       "      <th>13</th>\n",
       "      <td>UR</td>\n",
       "      <td>3</td>\n",
       "      <td>0</td>\n",
       "    </tr>\n",
       "  </tbody>\n",
       "</table>\n",
       "</div>"
      ],
      "text/plain": [
       "type    rating  Movie  TV Show\n",
       "0        TV-MA   2062     1143\n",
       "1        TV-14   1426      729\n",
       "2            R    796        2\n",
       "3        TV-PG    540      321\n",
       "4        PG-13    490        0\n",
       "5           PG    287        0\n",
       "6        TV-Y7    139      194\n",
       "7         TV-Y    131      175\n",
       "8         TV-G    126       94\n",
       "9           NR     75        4\n",
       "10           G     41        0\n",
       "11    TV-Y7-FV      5        1\n",
       "12       NC-17      3        0\n",
       "13          UR      3        0"
      ]
     },
     "execution_count": 55,
     "metadata": {},
     "output_type": "execute_result"
    }
   ],
   "source": [
    "rating=pd.crosstab(df.rating,df.type).sort_values(by=\"Movie\",ascending=False).reset_index()\n",
    "rating\n"
   ]
  },
  {
   "cell_type": "code",
   "execution_count": 56,
   "id": "61b1d5d4",
   "metadata": {
    "execution": {
     "iopub.execute_input": "2024-08-14T20:19:38.769686Z",
     "iopub.status.busy": "2024-08-14T20:19:38.769306Z",
     "iopub.status.idle": "2024-08-14T20:19:39.152457Z",
     "shell.execute_reply": "2024-08-14T20:19:39.151404Z"
    },
    "papermill": {
     "duration": 0.425029,
     "end_time": "2024-08-14T20:19:39.155011",
     "exception": false,
     "start_time": "2024-08-14T20:19:38.729982",
     "status": "completed"
    },
    "tags": []
   },
   "outputs": [
    {
     "data": {
      "image/png": "[encoded data removed]",
      "text/plain": [
       "<Figure size 640x480 with 1 Axes>"
      ]
     },
     "metadata": {},
     "output_type": "display_data"
    }
   ],
   "source": [
    "rating=pd.crosstab(df.rating,df.type).sort_values(by=\"Movie\",ascending=False).reset_index()\n",
    "rating.plot(kind=\"bar\",x='rating' ,y =\"Movie\",title=\" Movies Ratings\" ,xlabel='Rating', ylabel=\"frequency\" ,color=\"purple\")\n",
    "plt.show()"
   ]
  },
  {
   "cell_type": "code",
   "execution_count": 57,
   "id": "da8cd366",
   "metadata": {
    "execution": {
     "iopub.execute_input": "2024-08-14T20:19:39.234599Z",
     "iopub.status.busy": "2024-08-14T20:19:39.233880Z",
     "iopub.status.idle": "2024-08-14T20:19:39.633829Z",
     "shell.execute_reply": "2024-08-14T20:19:39.632395Z"
    },
    "papermill": {
     "duration": 0.442429,
     "end_time": "2024-08-14T20:19:39.636588",
     "exception": false,
     "start_time": "2024-08-14T20:19:39.194159",
     "status": "completed"
    },
    "tags": []
   },
   "outputs": [
    {
     "data": {
      "text/plain": [
       "<Axes: title={'center': 'TV Show Ratings'}, xlabel='Rating', ylabel='Frequency'>"
      ]
     },
     "execution_count": 57,
     "metadata": {},
     "output_type": "execute_result"
    },
    {
     "data": {
      "image/png": "[encoded data removed]",
      "text/plain": [
       "<Figure size 640x480 with 1 Axes>"
      ]
     },
     "metadata": {},
     "output_type": "display_data"
    }
   ],
   "source": [
    "rating=pd.crosstab(df.rating,df.type).sort_values(by=\"TV Show\",ascending=False).reset_index()\n",
    "rating.plot(kind=\"bar\",x=\"rating\", y=\"TV Show\",title=\"TV Show Ratings\",xlabel=\"Rating\",ylabel=\"Frequency\")"
   ]
  },
  {
   "cell_type": "code",
   "execution_count": 58,
   "id": "f8705a02",
   "metadata": {
    "execution": {
     "iopub.execute_input": "2024-08-14T20:19:39.716713Z",
     "iopub.status.busy": "2024-08-14T20:19:39.716313Z",
     "iopub.status.idle": "2024-08-14T20:19:39.743960Z",
     "shell.execute_reply": "2024-08-14T20:19:39.742836Z"
    },
    "papermill": {
     "duration": 0.070651,
     "end_time": "2024-08-14T20:19:39.746649",
     "exception": false,
     "start_time": "2024-08-14T20:19:39.675998",
     "status": "completed"
    },
    "tags": []
   },
   "outputs": [
    {
     "data": {
      "text/html": [
       "<div>\n",
       "<style scoped>\n",
       "    .dataframe tbody tr th:only-of-type {\n",
       "        vertical-align: middle;\n",
       "    }\n",
       "\n",
       "    .dataframe tbody tr th {\n",
       "        vertical-align: top;\n",
       "    }\n",
       "\n",
       "    .dataframe thead th {\n",
       "        text-align: right;\n",
       "    }\n",
       "</style>\n",
       "<table border=\"1\" class=\"dataframe\">\n",
       "  <thead>\n",
       "    <tr style=\"text-align: right;\">\n",
       "      <th>type</th>\n",
       "      <th>Movie</th>\n",
       "      <th>TV Show</th>\n",
       "    </tr>\n",
       "    <tr>\n",
       "      <th>duration</th>\n",
       "      <th></th>\n",
       "      <th></th>\n",
       "    </tr>\n",
       "  </thead>\n",
       "  <tbody>\n",
       "    <tr>\n",
       "      <th>1 Season</th>\n",
       "      <td>0</td>\n",
       "      <td>1790</td>\n",
       "    </tr>\n",
       "    <tr>\n",
       "      <th>10 Seasons</th>\n",
       "      <td>0</td>\n",
       "      <td>6</td>\n",
       "    </tr>\n",
       "    <tr>\n",
       "      <th>10 min</th>\n",
       "      <td>1</td>\n",
       "      <td>0</td>\n",
       "    </tr>\n",
       "    <tr>\n",
       "      <th>100 min</th>\n",
       "      <td>108</td>\n",
       "      <td>0</td>\n",
       "    </tr>\n",
       "    <tr>\n",
       "      <th>101 min</th>\n",
       "      <td>116</td>\n",
       "      <td>0</td>\n",
       "    </tr>\n",
       "    <tr>\n",
       "      <th>...</th>\n",
       "      <td>...</td>\n",
       "      <td>...</td>\n",
       "    </tr>\n",
       "    <tr>\n",
       "      <th>95 min</th>\n",
       "      <td>137</td>\n",
       "      <td>0</td>\n",
       "    </tr>\n",
       "    <tr>\n",
       "      <th>96 min</th>\n",
       "      <td>130</td>\n",
       "      <td>0</td>\n",
       "    </tr>\n",
       "    <tr>\n",
       "      <th>97 min</th>\n",
       "      <td>146</td>\n",
       "      <td>0</td>\n",
       "    </tr>\n",
       "    <tr>\n",
       "      <th>98 min</th>\n",
       "      <td>120</td>\n",
       "      <td>0</td>\n",
       "    </tr>\n",
       "    <tr>\n",
       "      <th>99 min</th>\n",
       "      <td>118</td>\n",
       "      <td>0</td>\n",
       "    </tr>\n",
       "  </tbody>\n",
       "</table>\n",
       "<p>220 rows × 2 columns</p>\n",
       "</div>"
      ],
      "text/plain": [
       "type        Movie  TV Show\n",
       "duration                  \n",
       "1 Season        0     1790\n",
       "10 Seasons      0        6\n",
       "10 min          1        0\n",
       "100 min       108        0\n",
       "101 min       116        0\n",
       "...           ...      ...\n",
       "95 min        137        0\n",
       "96 min        130        0\n",
       "97 min        146        0\n",
       "98 min        120        0\n",
       "99 min        118        0\n",
       "\n",
       "[220 rows x 2 columns]"
      ]
     },
     "execution_count": 58,
     "metadata": {},
     "output_type": "execute_result"
    }
   ],
   "source": [
    "pd.crosstab(df.duration , df.type)"
   ]
  },
  {
   "cell_type": "code",
   "execution_count": 59,
   "id": "2cea4b07",
   "metadata": {
    "execution": {
     "iopub.execute_input": "2024-08-14T20:19:39.827258Z",
     "iopub.status.busy": "2024-08-14T20:19:39.826519Z",
     "iopub.status.idle": "2024-08-14T20:19:39.845275Z",
     "shell.execute_reply": "2024-08-14T20:19:39.844242Z"
    },
    "papermill": {
     "duration": 0.061644,
     "end_time": "2024-08-14T20:19:39.847708",
     "exception": false,
     "start_time": "2024-08-14T20:19:39.786064",
     "status": "completed"
    },
    "tags": []
   },
   "outputs": [
    {
     "data": {
      "text/html": [
       "<div>\n",
       "<style scoped>\n",
       "    .dataframe tbody tr th:only-of-type {\n",
       "        vertical-align: middle;\n",
       "    }\n",
       "\n",
       "    .dataframe tbody tr th {\n",
       "        vertical-align: top;\n",
       "    }\n",
       "\n",
       "    .dataframe thead th {\n",
       "        text-align: right;\n",
       "    }\n",
       "</style>\n",
       "<table border=\"1\" class=\"dataframe\">\n",
       "  <thead>\n",
       "    <tr style=\"text-align: right;\">\n",
       "      <th></th>\n",
       "      <th>duration</th>\n",
       "      <th>type</th>\n",
       "      <th>count</th>\n",
       "    </tr>\n",
       "  </thead>\n",
       "  <tbody>\n",
       "    <tr>\n",
       "      <th>0</th>\n",
       "      <td>1 Season</td>\n",
       "      <td>TV Show</td>\n",
       "      <td>1790</td>\n",
       "    </tr>\n",
       "    <tr>\n",
       "      <th>1</th>\n",
       "      <td>10 Seasons</td>\n",
       "      <td>TV Show</td>\n",
       "      <td>6</td>\n",
       "    </tr>\n",
       "    <tr>\n",
       "      <th>2</th>\n",
       "      <td>10 min</td>\n",
       "      <td>Movie</td>\n",
       "      <td>1</td>\n",
       "    </tr>\n",
       "    <tr>\n",
       "      <th>3</th>\n",
       "      <td>100 min</td>\n",
       "      <td>Movie</td>\n",
       "      <td>108</td>\n",
       "    </tr>\n",
       "    <tr>\n",
       "      <th>4</th>\n",
       "      <td>101 min</td>\n",
       "      <td>Movie</td>\n",
       "      <td>116</td>\n",
       "    </tr>\n",
       "    <tr>\n",
       "      <th>...</th>\n",
       "      <td>...</td>\n",
       "      <td>...</td>\n",
       "      <td>...</td>\n",
       "    </tr>\n",
       "    <tr>\n",
       "      <th>215</th>\n",
       "      <td>95 min</td>\n",
       "      <td>Movie</td>\n",
       "      <td>137</td>\n",
       "    </tr>\n",
       "    <tr>\n",
       "      <th>216</th>\n",
       "      <td>96 min</td>\n",
       "      <td>Movie</td>\n",
       "      <td>130</td>\n",
       "    </tr>\n",
       "    <tr>\n",
       "      <th>217</th>\n",
       "      <td>97 min</td>\n",
       "      <td>Movie</td>\n",
       "      <td>146</td>\n",
       "    </tr>\n",
       "    <tr>\n",
       "      <th>218</th>\n",
       "      <td>98 min</td>\n",
       "      <td>Movie</td>\n",
       "      <td>120</td>\n",
       "    </tr>\n",
       "    <tr>\n",
       "      <th>219</th>\n",
       "      <td>99 min</td>\n",
       "      <td>Movie</td>\n",
       "      <td>118</td>\n",
       "    </tr>\n",
       "  </tbody>\n",
       "</table>\n",
       "<p>220 rows × 3 columns</p>\n",
       "</div>"
      ],
      "text/plain": [
       "       duration     type  count\n",
       "0      1 Season  TV Show   1790\n",
       "1    10 Seasons  TV Show      6\n",
       "2        10 min    Movie      1\n",
       "3       100 min    Movie    108\n",
       "4       101 min    Movie    116\n",
       "..          ...      ...    ...\n",
       "215      95 min    Movie    137\n",
       "216      96 min    Movie    130\n",
       "217      97 min    Movie    146\n",
       "218      98 min    Movie    120\n",
       "219      99 min    Movie    118\n",
       "\n",
       "[220 rows x 3 columns]"
      ]
     },
     "execution_count": 59,
     "metadata": {},
     "output_type": "execute_result"
    }
   ],
   "source": [
    "durations = df.groupby( 'duration')['type'].value_counts().reset_index()\n",
    "durations"
   ]
  },
  {
   "cell_type": "code",
   "execution_count": 60,
   "id": "c615d43a",
   "metadata": {
    "execution": {
     "iopub.execute_input": "2024-08-14T20:19:39.929572Z",
     "iopub.status.busy": "2024-08-14T20:19:39.928449Z",
     "iopub.status.idle": "2024-08-14T20:19:39.943606Z",
     "shell.execute_reply": "2024-08-14T20:19:39.942412Z"
    },
    "papermill": {
     "duration": 0.058665,
     "end_time": "2024-08-14T20:19:39.946297",
     "exception": false,
     "start_time": "2024-08-14T20:19:39.887632",
     "status": "completed"
    },
    "tags": []
   },
   "outputs": [
    {
     "data": {
      "text/html": [
       "<div>\n",
       "<style scoped>\n",
       "    .dataframe tbody tr th:only-of-type {\n",
       "        vertical-align: middle;\n",
       "    }\n",
       "\n",
       "    .dataframe tbody tr th {\n",
       "        vertical-align: top;\n",
       "    }\n",
       "\n",
       "    .dataframe thead th {\n",
       "        text-align: right;\n",
       "    }\n",
       "</style>\n",
       "<table border=\"1\" class=\"dataframe\">\n",
       "  <thead>\n",
       "    <tr style=\"text-align: right;\">\n",
       "      <th></th>\n",
       "      <th>duration</th>\n",
       "      <th>type</th>\n",
       "      <th>count</th>\n",
       "    </tr>\n",
       "  </thead>\n",
       "  <tbody>\n",
       "    <tr>\n",
       "      <th>210</th>\n",
       "      <td>90 min</td>\n",
       "      <td>Movie</td>\n",
       "      <td>152</td>\n",
       "    </tr>\n",
       "    <tr>\n",
       "      <th>213</th>\n",
       "      <td>93 min</td>\n",
       "      <td>Movie</td>\n",
       "      <td>146</td>\n",
       "    </tr>\n",
       "    <tr>\n",
       "      <th>214</th>\n",
       "      <td>94 min</td>\n",
       "      <td>Movie</td>\n",
       "      <td>146</td>\n",
       "    </tr>\n",
       "    <tr>\n",
       "      <th>217</th>\n",
       "      <td>97 min</td>\n",
       "      <td>Movie</td>\n",
       "      <td>146</td>\n",
       "    </tr>\n",
       "    <tr>\n",
       "      <th>211</th>\n",
       "      <td>91 min</td>\n",
       "      <td>Movie</td>\n",
       "      <td>144</td>\n",
       "    </tr>\n",
       "    <tr>\n",
       "      <th>215</th>\n",
       "      <td>95 min</td>\n",
       "      <td>Movie</td>\n",
       "      <td>137</td>\n",
       "    </tr>\n",
       "    <tr>\n",
       "      <th>216</th>\n",
       "      <td>96 min</td>\n",
       "      <td>Movie</td>\n",
       "      <td>130</td>\n",
       "    </tr>\n",
       "    <tr>\n",
       "      <th>212</th>\n",
       "      <td>92 min</td>\n",
       "      <td>Movie</td>\n",
       "      <td>129</td>\n",
       "    </tr>\n",
       "    <tr>\n",
       "      <th>5</th>\n",
       "      <td>102 min</td>\n",
       "      <td>Movie</td>\n",
       "      <td>122</td>\n",
       "    </tr>\n",
       "    <tr>\n",
       "      <th>218</th>\n",
       "      <td>98 min</td>\n",
       "      <td>Movie</td>\n",
       "      <td>120</td>\n",
       "    </tr>\n",
       "  </tbody>\n",
       "</table>\n",
       "</div>"
      ],
      "text/plain": [
       "    duration   type  count\n",
       "210   90 min  Movie    152\n",
       "213   93 min  Movie    146\n",
       "214   94 min  Movie    146\n",
       "217   97 min  Movie    146\n",
       "211   91 min  Movie    144\n",
       "215   95 min  Movie    137\n",
       "216   96 min  Movie    130\n",
       "212   92 min  Movie    129\n",
       "5    102 min  Movie    122\n",
       "218   98 min  Movie    120"
      ]
     },
     "execution_count": 60,
     "metadata": {},
     "output_type": "execute_result"
    }
   ],
   "source": [
    "top_10_movie_durations = durations[durations['type'] == 'Movie'].sort_values(by='count', ascending=False).iloc[0:10]\n",
    "top_10_movie_durations"
   ]
  },
  {
   "cell_type": "code",
   "execution_count": 61,
   "id": "235478de",
   "metadata": {
    "execution": {
     "iopub.execute_input": "2024-08-14T20:19:40.027898Z",
     "iopub.status.busy": "2024-08-14T20:19:40.027497Z",
     "iopub.status.idle": "2024-08-14T20:19:40.337828Z",
     "shell.execute_reply": "2024-08-14T20:19:40.336677Z"
    },
    "papermill": {
     "duration": 0.354634,
     "end_time": "2024-08-14T20:19:40.340568",
     "exception": false,
     "start_time": "2024-08-14T20:19:39.985934",
     "status": "completed"
    },
    "tags": []
   },
   "outputs": [
    {
     "data": {
      "image/png": "[encoded data removed]",
      "text/plain": [
       "<Figure size 1200x800 with 1 Axes>"
      ]
     },
     "metadata": {},
     "output_type": "display_data"
    }
   ],
   "source": [
    "plt.figure(figsize=(12, 8))\n",
    "sns.barplot(x='duration', y='count', data=top_10_movie_durations,dodge=True ,color=\"#4A646C\")\n",
    "plt.xlabel('Count')\n",
    "plt.ylabel('duration')\n",
    "plt.title('Top 10 Movie Durations')\n",
    "plt.show()"
   ]
  },
  {
   "cell_type": "code",
   "execution_count": 62,
   "id": "ac99ad48",
   "metadata": {
    "execution": {
     "iopub.execute_input": "2024-08-14T20:19:40.423515Z",
     "iopub.status.busy": "2024-08-14T20:19:40.423127Z",
     "iopub.status.idle": "2024-08-14T20:19:40.437469Z",
     "shell.execute_reply": "2024-08-14T20:19:40.436392Z"
    },
    "papermill": {
     "duration": 0.058942,
     "end_time": "2024-08-14T20:19:40.439944",
     "exception": false,
     "start_time": "2024-08-14T20:19:40.381002",
     "status": "completed"
    },
    "tags": []
   },
   "outputs": [
    {
     "data": {
      "text/html": [
       "<div>\n",
       "<style scoped>\n",
       "    .dataframe tbody tr th:only-of-type {\n",
       "        vertical-align: middle;\n",
       "    }\n",
       "\n",
       "    .dataframe tbody tr th {\n",
       "        vertical-align: top;\n",
       "    }\n",
       "\n",
       "    .dataframe thead th {\n",
       "        text-align: right;\n",
       "    }\n",
       "</style>\n",
       "<table border=\"1\" class=\"dataframe\">\n",
       "  <thead>\n",
       "    <tr style=\"text-align: right;\">\n",
       "      <th></th>\n",
       "      <th>duration</th>\n",
       "      <th>type</th>\n",
       "      <th>count</th>\n",
       "    </tr>\n",
       "  </thead>\n",
       "  <tbody>\n",
       "    <tr>\n",
       "      <th>0</th>\n",
       "      <td>1 Season</td>\n",
       "      <td>TV Show</td>\n",
       "      <td>1790</td>\n",
       "    </tr>\n",
       "    <tr>\n",
       "      <th>110</th>\n",
       "      <td>2 Seasons</td>\n",
       "      <td>TV Show</td>\n",
       "      <td>421</td>\n",
       "    </tr>\n",
       "    <tr>\n",
       "      <th>138</th>\n",
       "      <td>3 Seasons</td>\n",
       "      <td>TV Show</td>\n",
       "      <td>198</td>\n",
       "    </tr>\n",
       "    <tr>\n",
       "      <th>151</th>\n",
       "      <td>4 Seasons</td>\n",
       "      <td>TV Show</td>\n",
       "      <td>94</td>\n",
       "    </tr>\n",
       "    <tr>\n",
       "      <th>162</th>\n",
       "      <td>5 Seasons</td>\n",
       "      <td>TV Show</td>\n",
       "      <td>64</td>\n",
       "    </tr>\n",
       "    <tr>\n",
       "      <th>174</th>\n",
       "      <td>6 Seasons</td>\n",
       "      <td>TV Show</td>\n",
       "      <td>33</td>\n",
       "    </tr>\n",
       "    <tr>\n",
       "      <th>185</th>\n",
       "      <td>7 Seasons</td>\n",
       "      <td>TV Show</td>\n",
       "      <td>23</td>\n",
       "    </tr>\n",
       "    <tr>\n",
       "      <th>196</th>\n",
       "      <td>8 Seasons</td>\n",
       "      <td>TV Show</td>\n",
       "      <td>17</td>\n",
       "    </tr>\n",
       "    <tr>\n",
       "      <th>208</th>\n",
       "      <td>9 Seasons</td>\n",
       "      <td>TV Show</td>\n",
       "      <td>9</td>\n",
       "    </tr>\n",
       "    <tr>\n",
       "      <th>1</th>\n",
       "      <td>10 Seasons</td>\n",
       "      <td>TV Show</td>\n",
       "      <td>6</td>\n",
       "    </tr>\n",
       "  </tbody>\n",
       "</table>\n",
       "</div>"
      ],
      "text/plain": [
       "       duration     type  count\n",
       "0      1 Season  TV Show   1790\n",
       "110   2 Seasons  TV Show    421\n",
       "138   3 Seasons  TV Show    198\n",
       "151   4 Seasons  TV Show     94\n",
       "162   5 Seasons  TV Show     64\n",
       "174   6 Seasons  TV Show     33\n",
       "185   7 Seasons  TV Show     23\n",
       "196   8 Seasons  TV Show     17\n",
       "208   9 Seasons  TV Show      9\n",
       "1    10 Seasons  TV Show      6"
      ]
     },
     "execution_count": 62,
     "metadata": {},
     "output_type": "execute_result"
    }
   ],
   "source": [
    "top_10_TV_Show_durations = durations[durations['type'] == 'TV Show'].sort_values(by='count', ascending=False).iloc[0:10]\n",
    "top_10_TV_Show_durations"
   ]
  },
  {
   "cell_type": "code",
   "execution_count": 63,
   "id": "283023f9",
   "metadata": {
    "execution": {
     "iopub.execute_input": "2024-08-14T20:19:40.523635Z",
     "iopub.status.busy": "2024-08-14T20:19:40.523249Z",
     "iopub.status.idle": "2024-08-14T20:19:40.817016Z",
     "shell.execute_reply": "2024-08-14T20:19:40.815869Z"
    },
    "papermill": {
     "duration": 0.340562,
     "end_time": "2024-08-14T20:19:40.820987",
     "exception": false,
     "start_time": "2024-08-14T20:19:40.480425",
     "status": "completed"
    },
    "tags": []
   },
   "outputs": [
    {
     "data": {
      "image/png": "[encoded data removed]",
      "text/plain": [
       "<Figure size 640x480 with 1 Axes>"
      ]
     },
     "metadata": {},
     "output_type": "display_data"
    }
   ],
   "source": [
    "top_10_TV_Show_durations.plot(x='duration', y='count', kind='bar')\n",
    "plt.title('Top 10 TV Shows Durations')\n",
    "plt.xlabel('Duration')\n",
    "plt.ylabel('Count')\n",
    "plt.xticks(rotation=45)\n",
    "plt.show()"
   ]
  },
  {
   "cell_type": "code",
   "execution_count": 64,
   "id": "481a5131",
   "metadata": {
    "execution": {
     "iopub.execute_input": "2024-08-14T20:19:40.905760Z",
     "iopub.status.busy": "2024-08-14T20:19:40.905381Z",
     "iopub.status.idle": "2024-08-14T20:19:40.926678Z",
     "shell.execute_reply": "2024-08-14T20:19:40.925581Z"
    },
    "papermill": {
     "duration": 0.066901,
     "end_time": "2024-08-14T20:19:40.929140",
     "exception": false,
     "start_time": "2024-08-14T20:19:40.862239",
     "status": "completed"
    },
    "tags": []
   },
   "outputs": [
    {
     "data": {
      "text/html": [
       "<div>\n",
       "<style scoped>\n",
       "    .dataframe tbody tr th:only-of-type {\n",
       "        vertical-align: middle;\n",
       "    }\n",
       "\n",
       "    .dataframe tbody tr th {\n",
       "        vertical-align: top;\n",
       "    }\n",
       "\n",
       "    .dataframe thead th {\n",
       "        text-align: right;\n",
       "    }\n",
       "</style>\n",
       "<table border=\"1\" class=\"dataframe\">\n",
       "  <thead>\n",
       "    <tr style=\"text-align: right;\">\n",
       "      <th></th>\n",
       "      <th>type</th>\n",
       "      <th>category</th>\n",
       "      <th>count</th>\n",
       "    </tr>\n",
       "  </thead>\n",
       "  <tbody>\n",
       "    <tr>\n",
       "      <th>0</th>\n",
       "      <td>Movie</td>\n",
       "      <td>Dramas, International Movies</td>\n",
       "      <td>362</td>\n",
       "    </tr>\n",
       "    <tr>\n",
       "      <th>1</th>\n",
       "      <td>Movie</td>\n",
       "      <td>Documentaries</td>\n",
       "      <td>359</td>\n",
       "    </tr>\n",
       "    <tr>\n",
       "      <th>2</th>\n",
       "      <td>Movie</td>\n",
       "      <td>Stand-Up Comedy</td>\n",
       "      <td>334</td>\n",
       "    </tr>\n",
       "    <tr>\n",
       "      <th>3</th>\n",
       "      <td>Movie</td>\n",
       "      <td>Comedies, Dramas, International Movies</td>\n",
       "      <td>274</td>\n",
       "    </tr>\n",
       "    <tr>\n",
       "      <th>4</th>\n",
       "      <td>Movie</td>\n",
       "      <td>Dramas, Independent Movies, International Movies</td>\n",
       "      <td>252</td>\n",
       "    </tr>\n",
       "    <tr>\n",
       "      <th>...</th>\n",
       "      <td>...</td>\n",
       "      <td>...</td>\n",
       "      <td>...</td>\n",
       "    </tr>\n",
       "    <tr>\n",
       "      <th>508</th>\n",
       "      <td>TV Show</td>\n",
       "      <td>TV Comedies, TV Sci-Fi &amp; Fantasy, Teen TV Shows</td>\n",
       "      <td>1</td>\n",
       "    </tr>\n",
       "    <tr>\n",
       "      <th>509</th>\n",
       "      <td>TV Show</td>\n",
       "      <td>TV Dramas, TV Sci-Fi &amp; Fantasy, TV Thrillers</td>\n",
       "      <td>1</td>\n",
       "    </tr>\n",
       "    <tr>\n",
       "      <th>510</th>\n",
       "      <td>TV Show</td>\n",
       "      <td>TV Dramas, TV Sci-Fi &amp; Fantasy, Teen TV Shows</td>\n",
       "      <td>1</td>\n",
       "    </tr>\n",
       "    <tr>\n",
       "      <th>511</th>\n",
       "      <td>TV Show</td>\n",
       "      <td>TV Horror, TV Mysteries, Teen TV Shows</td>\n",
       "      <td>1</td>\n",
       "    </tr>\n",
       "    <tr>\n",
       "      <th>512</th>\n",
       "      <td>TV Show</td>\n",
       "      <td>TV Sci-Fi &amp; Fantasy, TV Thrillers</td>\n",
       "      <td>1</td>\n",
       "    </tr>\n",
       "  </tbody>\n",
       "</table>\n",
       "<p>513 rows × 3 columns</p>\n",
       "</div>"
      ],
      "text/plain": [
       "        type                                          category  count\n",
       "0      Movie                      Dramas, International Movies    362\n",
       "1      Movie                                     Documentaries    359\n",
       "2      Movie                                   Stand-Up Comedy    334\n",
       "3      Movie            Comedies, Dramas, International Movies    274\n",
       "4      Movie  Dramas, Independent Movies, International Movies    252\n",
       "..       ...                                               ...    ...\n",
       "508  TV Show   TV Comedies, TV Sci-Fi & Fantasy, Teen TV Shows      1\n",
       "509  TV Show      TV Dramas, TV Sci-Fi & Fantasy, TV Thrillers      1\n",
       "510  TV Show     TV Dramas, TV Sci-Fi & Fantasy, Teen TV Shows      1\n",
       "511  TV Show            TV Horror, TV Mysteries, Teen TV Shows      1\n",
       "512  TV Show                 TV Sci-Fi & Fantasy, TV Thrillers      1\n",
       "\n",
       "[513 rows x 3 columns]"
      ]
     },
     "execution_count": 64,
     "metadata": {},
     "output_type": "execute_result"
    }
   ],
   "source": [
    "df.groupby(['type'])['category'].value_counts().reset_index()\n",
    "# second way\n",
    "#df.groupby([\"category\",'type'])[\"category\"].value_counts().sort_values(ascending=False)"
   ]
  },
  {
   "cell_type": "code",
   "execution_count": 65,
   "id": "918b1648",
   "metadata": {
    "execution": {
     "iopub.execute_input": "2024-08-14T20:19:41.016300Z",
     "iopub.status.busy": "2024-08-14T20:19:41.015352Z",
     "iopub.status.idle": "2024-08-14T20:19:41.031718Z",
     "shell.execute_reply": "2024-08-14T20:19:41.030734Z"
    },
    "papermill": {
     "duration": 0.062617,
     "end_time": "2024-08-14T20:19:41.034558",
     "exception": false,
     "start_time": "2024-08-14T20:19:40.971941",
     "status": "completed"
    },
    "tags": []
   },
   "outputs": [],
   "source": [
    "category_counts = df.groupby(['type'])['category'].value_counts().reset_index()\n",
    "\n",
    "top_movies = category_counts[category_counts['type'] == 'Movie'].sort_values(by='count', ascending=False).head(10)\n",
    "top_tv_shows = category_counts[category_counts['type'] == 'TV Show'].sort_values(by='count', ascending=False).head(10)\n",
    "\n"
   ]
  },
  {
   "cell_type": "code",
   "execution_count": 66,
   "id": "24214848",
   "metadata": {
    "execution": {
     "iopub.execute_input": "2024-08-14T20:19:41.119480Z",
     "iopub.status.busy": "2024-08-14T20:19:41.119082Z",
     "iopub.status.idle": "2024-08-14T20:19:42.038453Z",
     "shell.execute_reply": "2024-08-14T20:19:42.037137Z"
    },
    "papermill": {
     "duration": 0.965873,
     "end_time": "2024-08-14T20:19:42.041928",
     "exception": false,
     "start_time": "2024-08-14T20:19:41.076055",
     "status": "completed"
    },
    "tags": []
   },
   "outputs": [
    {
     "data": {
      "image/png": "[encoded data removed]",
      "text/plain": [
       "<Figure size 1400x800 with 1 Axes>"
      ]
     },
     "metadata": {},
     "output_type": "display_data"
    }
   ],
   "source": [
    "# Combine top movies and TV shows into a single DataFrame\n",
    "top_combined = pd.concat([top_movies, top_tv_shows])\n",
    "plt.figure(figsize=(14, 8))\n",
    "sns.barplot(x='count', y='category', hue='type', data=top_combined, palette={'Movie': 'purple', 'TV Show': 'blue'})\n",
    "\n",
    "plt.xlabel('Count')\n",
    "plt.ylabel('Category')\n",
    "plt.title('Top 10 Categories for Movies and TV Shows')\n",
    "plt.legend(title='Type')\n",
    "plt.show()"
   ]
  },
  {
   "cell_type": "code",
   "execution_count": 67,
   "id": "fcc0c72c",
   "metadata": {
    "execution": {
     "iopub.execute_input": "2024-08-14T20:19:42.129597Z",
     "iopub.status.busy": "2024-08-14T20:19:42.129213Z",
     "iopub.status.idle": "2024-08-14T20:19:42.140605Z",
     "shell.execute_reply": "2024-08-14T20:19:42.139396Z"
    },
    "papermill": {
     "duration": 0.058591,
     "end_time": "2024-08-14T20:19:42.143385",
     "exception": false,
     "start_time": "2024-08-14T20:19:42.084794",
     "status": "completed"
    },
    "tags": []
   },
   "outputs": [],
   "source": [
    "count_year=df.groupby(\"type\").year.value_counts().reset_index()\n"
   ]
  },
  {
   "cell_type": "code",
   "execution_count": 68,
   "id": "bf13cb0c",
   "metadata": {
    "execution": {
     "iopub.execute_input": "2024-08-14T20:19:42.232834Z",
     "iopub.status.busy": "2024-08-14T20:19:42.231846Z",
     "iopub.status.idle": "2024-08-14T20:19:42.238603Z",
     "shell.execute_reply": "2024-08-14T20:19:42.237420Z"
    },
    "papermill": {
     "duration": 0.053851,
     "end_time": "2024-08-14T20:19:42.241247",
     "exception": false,
     "start_time": "2024-08-14T20:19:42.187396",
     "status": "completed"
    },
    "tags": []
   },
   "outputs": [],
   "source": [
    "count_movie_year=count_year[count_year.type==\"Movie\"]\n"
   ]
  },
  {
   "cell_type": "code",
   "execution_count": 69,
   "id": "38aaa824",
   "metadata": {
    "execution": {
     "iopub.execute_input": "2024-08-14T20:19:42.330558Z",
     "iopub.status.busy": "2024-08-14T20:19:42.330152Z",
     "iopub.status.idle": "2024-08-14T20:19:42.618434Z",
     "shell.execute_reply": "2024-08-14T20:19:42.617030Z"
    },
    "papermill": {
     "duration": 0.335576,
     "end_time": "2024-08-14T20:19:42.621422",
     "exception": false,
     "start_time": "2024-08-14T20:19:42.285846",
     "status": "completed"
    },
    "tags": []
   },
   "outputs": [
    {
     "data": {
      "image/png": "[encoded data removed]",
      "text/plain": [
       "<Figure size 1200x600 with 1 Axes>"
      ]
     },
     "metadata": {},
     "output_type": "display_data"
    }
   ],
   "source": [
    "plt.figure(figsize=(12, 6))\n",
    "plt.plot(count_movie_year['year'], \n",
    "         count_movie_year['count'], \n",
    "         marker='o', color='blue', linestyle='-', linewidth=2, markersize=6)\n",
    "\n",
    "\n",
    "plt.title('Number of Movies Added per Year', fontsize=16)\n",
    "plt.xlabel('Year', fontsize=14)\n",
    "plt.ylabel('Count of Movies', fontsize=14)\n",
    "plt.grid(True)\n",
    "\n",
    "plt.show()"
   ]
  },
  {
   "cell_type": "code",
   "execution_count": 70,
   "id": "aafb2a17",
   "metadata": {
    "execution": {
     "iopub.execute_input": "2024-08-14T20:19:42.711802Z",
     "iopub.status.busy": "2024-08-14T20:19:42.711386Z",
     "iopub.status.idle": "2024-08-14T20:19:42.717550Z",
     "shell.execute_reply": "2024-08-14T20:19:42.716431Z"
    },
    "papermill": {
     "duration": 0.054051,
     "end_time": "2024-08-14T20:19:42.719943",
     "exception": false,
     "start_time": "2024-08-14T20:19:42.665892",
     "status": "completed"
    },
    "tags": []
   },
   "outputs": [],
   "source": [
    "count_TVShow_year=count_year[count_year.type==\"TV Show\"]"
   ]
  },
  {
   "cell_type": "code",
   "execution_count": 71,
   "id": "dd8aceb0",
   "metadata": {
    "execution": {
     "iopub.execute_input": "2024-08-14T20:19:42.810208Z",
     "iopub.status.busy": "2024-08-14T20:19:42.809122Z",
     "iopub.status.idle": "2024-08-14T20:19:43.160967Z",
     "shell.execute_reply": "2024-08-14T20:19:43.159672Z"
    },
    "papermill": {
     "duration": 0.399832,
     "end_time": "2024-08-14T20:19:43.163892",
     "exception": false,
     "start_time": "2024-08-14T20:19:42.764060",
     "status": "completed"
    },
    "tags": []
   },
   "outputs": [
    {
     "data": {
      "image/png": "[encoded data removed]",
      "text/plain": [
       "<Figure size 1200x600 with 1 Axes>"
      ]
     },
     "metadata": {},
     "output_type": "display_data"
    }
   ],
   "source": [
    "plt.figure(figsize=(12, 6))\n",
    "\n",
    "# Smooth line plot\n",
    "plt.plot(count_TVShow_year['year'], \n",
    "         count_TVShow_year['count'], \n",
    "         marker='o', color='green', linestyle='-', linewidth=2.5, markersize=8)\n",
    "\n",
    "\n",
    "plt.title('Number of TV Shows Added per Year', fontsize=18)\n",
    "plt.xlabel('Year', fontsize=16)\n",
    "plt.ylabel('Count of TV Shows', fontsize=16)\n",
    "\n",
    "# Adding a grid with a slight opacity for better visibility\n",
    "plt.grid(True, linestyle='--', alpha=0.6)\n",
    "\n",
    "plt.fill_between(count_TVShow_year['year'], count_TVShow_year['count'], color='green', alpha=0.2)\n",
    "plt.show()"
   ]
  },
  {
   "cell_type": "code",
   "execution_count": 72,
   "id": "6b55755e",
   "metadata": {
    "execution": {
     "iopub.execute_input": "2024-08-14T20:19:43.259259Z",
     "iopub.status.busy": "2024-08-14T20:19:43.258319Z",
     "iopub.status.idle": "2024-08-14T20:19:43.265258Z",
     "shell.execute_reply": "2024-08-14T20:19:43.264308Z"
    },
    "papermill": {
     "duration": 0.058799,
     "end_time": "2024-08-14T20:19:43.267626",
     "exception": false,
     "start_time": "2024-08-14T20:19:43.208827",
     "status": "completed"
    },
    "tags": []
   },
   "outputs": [],
   "source": [
    "# 2019\n",
    "df_2019=df[df[\"year\"]==2019]\n"
   ]
  },
  {
   "cell_type": "code",
   "execution_count": 73,
   "id": "87d49ff7",
   "metadata": {
    "execution": {
     "iopub.execute_input": "2024-08-14T20:19:43.361996Z",
     "iopub.status.busy": "2024-08-14T20:19:43.361596Z",
     "iopub.status.idle": "2024-08-14T20:19:43.370654Z",
     "shell.execute_reply": "2024-08-14T20:19:43.369493Z"
    },
    "papermill": {
     "duration": 0.058738,
     "end_time": "2024-08-14T20:19:43.373173",
     "exception": false,
     "start_time": "2024-08-14T20:19:43.314435",
     "status": "completed"
    },
    "tags": []
   },
   "outputs": [],
   "source": [
    "theMostCategories_2019=df_2019[\"category\"].value_counts().sort_values( ascending=False).head(5).reset_index()"
   ]
  },
  {
   "cell_type": "code",
   "execution_count": 74,
   "id": "6ef6c544",
   "metadata": {
    "execution": {
     "iopub.execute_input": "2024-08-14T20:19:43.465433Z",
     "iopub.status.busy": "2024-08-14T20:19:43.464966Z",
     "iopub.status.idle": "2024-08-14T20:19:43.813794Z",
     "shell.execute_reply": "2024-08-14T20:19:43.812448Z"
    },
    "papermill": {
     "duration": 0.398777,
     "end_time": "2024-08-14T20:19:43.817171",
     "exception": false,
     "start_time": "2024-08-14T20:19:43.418394",
     "status": "completed"
    },
    "tags": []
   },
   "outputs": [
    {
     "data": {
      "image/png": "[encoded data removed]",
      "text/plain": [
       "<Figure size 1000x600 with 1 Axes>"
      ]
     },
     "metadata": {},
     "output_type": "display_data"
    }
   ],
   "source": [
    "plt.figure(figsize=(10, 6))\n",
    "\n",
    "\n",
    "sns.barplot(x='category', y='count', data=theMostCategories_2019, color='blue')\n",
    "for patch in plt.gca().patches:\n",
    "    patch.set_width(0.4)\n",
    "plt.title(' Top 5 categories with the most content added on 2019 ')\n",
    "\n",
    "plt.xlabel('category')\n",
    "plt.ylabel('Count')\n",
    "plt.xticks(rotation=45)\n",
    "plt.show()"
   ]
  }
 ],
 "metadata": {
  "kaggle": {
   "accelerator": "none",
   "dataSources": [
    {
     "datasetId": 2437124,
     "sourceId": 4123716,
     "sourceType": "datasetVersion"
    }
   ],
   "dockerImageVersionId": 30746,
   "isGpuEnabled": false,
   "isInternetEnabled": true,
   "language": "python",
   "sourceType": "notebook"
  },
  "kernelspec": {
   "display_name": "Python 3",
   "language": "python",
   "name": "python3"
  },
  "language_info": {
   "codemirror_mode": {
    "name": "ipython",
    "version": 3
   },
   "file_extension": ".py",
   "mimetype": "text/x-python",
   "name": "python",
   "nbconvert_exporter": "python",
   "pygments_lexer": "ipython3",
   "version": "3.10.13"
  },
  "papermill": {
   "default_parameters": {},
   "duration": 20.22653,
   "end_time": "2024-08-14T20:19:44.485601",
   "environment_variables": {},
   "exception": null,
   "input_path": "__notebook__.ipynb",
   "output_path": "__notebook__.ipynb",
   "parameters": {},
   "start_time": "2024-08-14T20:19:24.259071",
   "version": "2.5.0"
  }
 },
 "nbformat": 4,
 "nbformat_minor": 5
}
